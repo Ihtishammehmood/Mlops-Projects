{
 "cells": [
  {
   "cell_type": "code",
   "execution_count": 1,
   "id": "aa7e52fa",
   "metadata": {},
   "outputs": [],
   "source": [
    "import pandas as pd\n",
    "from tabulate import tabulate\n",
    "import kagglehub\n",
    "import os\n",
    "from zipfile import ZipFile\n",
    "import numpy as np\n",
    "import seaborn as sns\n",
    "import matplotlib.pyplot as plt\n",
    "# from ucimlrepo import fetch_ucirepo\n",
    "import warnings\n",
    "warnings.filterwarnings(\"ignore\")\n",
    "pd.set_option('display.float_format', '{:.2f}'.format)\n"
   ]
  },
  {
   "cell_type": "markdown",
   "id": "7524c5cf",
   "metadata": {},
   "source": [
    "## Data Load"
   ]
  },
  {
   "cell_type": "markdown",
   "id": "46f6af42",
   "metadata": {},
   "source": [
    "### About Dataset\n",
    "\n",
    "\n",
    "This dataset captures real-world salary data for jobs in Data Science, Artificial Intelligence, and Machine Learning from 2020 to 2025. Each row represents a reported salary, enriched with attributes like job title, experience level, company size, remote work ratio, and geographic context. This data is valuable for analyzing salary trends over time, comparing roles across countries, and exploring compensation based on experience, work setting, and more.\n",
    "\n",
    "[Link to datasource](https://www.kaggle.com/datasets/adilshamim8/salaries-for-data-science-jobs)\n",
    "\n",
    "Column Descriptions:\n",
    "\n",
    "- work_year:The year the salary was reported. Covers salaries from 2020 through 2025.\n",
    "\n",
    "- experience_level:The seniority level of the employee at the time of reporting. Common values include:\n",
    "\n",
    "- EN: Entry-level / Junior\n",
    "- MI: Mid-level / Intermediate\n",
    "- SE: Senior-level\n",
    "- EX: Executive / Director\n",
    "\n",
    "employment_type\n",
    "\n",
    "\n",
    "- FT: Full-time\n",
    "- PT: Part-time\n",
    "- CT: Contract\n",
    "- FL: Freelance\n",
    "- job_title\n",
    "\n",
    "- salary: The employee's gross annual salary in the original reported currency, before taxes and deductions.\n",
    "\n",
    "- salary_currency :The currency in which the salary was originally paid (e.g., USD, EUR, INR).\n",
    "\n",
    "- salary_in_usd: The employee's salary converted into USD using 2025 exchange rates for standardized comparison.\n",
    "\n",
    "- employee_residence:The country (ISO 3166-1 alpha-2 code) where the employee resides. This may differ from the company location, especially in remote roles.\n",
    "\n",
    "- remote_ratio:Indicates the percentage of remote work:\n",
    "\n",
    "  - 0: No remote work (On-site)\n",
    "  - 50: Hybrid (partially remote)\n",
    "  - 100: Fully remote\n",
    "  - company_location\n",
    "\n",
    "company_size\n",
    "\n",
    "- S: Small (1–50 employees)\n",
    "- M: Medium (51–500 employees)\n",
    "- L: Large (501+ employees)"
   ]
  },
  {
   "cell_type": "code",
   "execution_count": 2,
   "id": "3e094784",
   "metadata": {},
   "outputs": [
    {
     "name": "stdout",
     "output_type": "stream",
     "text": [
      "DataFrame loaded successfully:\n"
     ]
    }
   ],
   "source": [
    "# Step 1: Download the latest version of the dataset\n",
    "path = kagglehub.dataset_download(\"adilshamim8/salaries-for-data-science-jobs\")\n",
    "# print(\"Path to dataset files:\", path)\n",
    "\n",
    "\n",
    "for file in os.listdir(path):\n",
    "    if file.endswith(\".zip\"):\n",
    "        zip_path = os.path.join(path, file)\n",
    "        with ZipFile(zip_path, 'r') as zip_ref:\n",
    "            zip_ref.extractall(path)\n",
    "        print(f\"Extracted: {zip_path}\")\n",
    "\n",
    "\n",
    "file_name = \"salaries.csv\"\n",
    "file_path = os.path.join(path, file_name)\n",
    "\n",
    "if os.path.exists(file_path):\n",
    "    df = pd.read_csv(file_path)\n",
    "    # df.set_index('Date',inplace=True)\n",
    "    print(\"DataFrame loaded successfully:\")\n",
    "\n",
    "else:\n",
    "    print(f\"{file_name} not found in the dataset folder.\")"
   ]
  },
  {
   "cell_type": "markdown",
   "id": "39c39930",
   "metadata": {},
   "source": [
    "### Make pandas more memory efficient\n",
    "- Well, with small dataset it doesn't matter but with large dataset it does. \n",
    "- So, we will convert the data types of the columns to the most memory efficient type."
   ]
  },
  {
   "cell_type": "code",
   "execution_count": 3,
   "id": "d5c3f917",
   "metadata": {},
   "outputs": [
    {
     "data": {
      "application/vnd.microsoft.datawrangler.viewer.v0+json": {
       "columns": [
        {
         "name": "index",
         "rawType": "object",
         "type": "string"
        },
        {
         "name": "0",
         "rawType": "object",
         "type": "unknown"
        }
       ],
       "ref": "73806011-b32b-4637-adc8-74de49bcf365",
       "rows": [
        [
         "work_year",
         "int64"
        ],
        [
         "experience_level",
         "object"
        ],
        [
         "employment_type",
         "object"
        ],
        [
         "job_title",
         "object"
        ],
        [
         "salary",
         "int64"
        ],
        [
         "salary_currency",
         "object"
        ],
        [
         "salary_in_usd",
         "int64"
        ],
        [
         "employee_residence",
         "object"
        ],
        [
         "remote_ratio",
         "int64"
        ],
        [
         "company_location",
         "object"
        ],
        [
         "company_size",
         "object"
        ]
       ],
       "shape": {
        "columns": 1,
        "rows": 11
       }
      },
      "text/plain": [
       "work_year              int64\n",
       "experience_level      object\n",
       "employment_type       object\n",
       "job_title             object\n",
       "salary                 int64\n",
       "salary_currency       object\n",
       "salary_in_usd          int64\n",
       "employee_residence    object\n",
       "remote_ratio           int64\n",
       "company_location      object\n",
       "company_size          object\n",
       "dtype: object"
      ]
     },
     "execution_count": 3,
     "metadata": {},
     "output_type": "execute_result"
    }
   ],
   "source": [
    "df.dtypes"
   ]
  },
  {
   "cell_type": "code",
   "execution_count": 4,
   "id": "d6c92bef",
   "metadata": {},
   "outputs": [
    {
     "name": "stdout",
     "output_type": "stream",
     "text": [
      "Before: 52.40 MB\n",
      "After: 2.54 MB\n"
     ]
    }
   ],
   "source": [
    "# convert datatypes to the most memory efficient type\n",
    "def convert_dtypes(df):\n",
    "    for col in df.columns:\n",
    "        if pd.api.types.is_integer_dtype(df[col]):\n",
    "            df[col] = pd.to_numeric(df[col], downcast='integer')\n",
    "        elif pd.api.types.is_float_dtype(df[col]):\n",
    "            df[col] = pd.to_numeric(df[col], downcast='float')\n",
    "        elif pd.api.types.is_object_dtype(df[col]):\n",
    "            df[col] = df[col].astype('category')\n",
    "    return df\n",
    "\n",
    "# before and after memory usage\n",
    "before_memory = df.memory_usage(deep=True).sum() / (1024 ** 2)  # in MB\n",
    "df = convert_dtypes(df)\n",
    "after_memory = df.memory_usage(deep=True).sum() / (1024 ** 2)  # in MB\n",
    "print(f\"Before: {before_memory:.2f} MB\")\n",
    "print(f\"After: {after_memory:.2f} MB\")\n",
    "\n"
   ]
  },
  {
   "cell_type": "markdown",
   "id": "a14adcf2",
   "metadata": {},
   "source": [
    "## Univariate Analysis"
   ]
  },
  {
   "cell_type": "markdown",
   "id": "52dd29c7",
   "metadata": {},
   "source": [
    "### Summary Statistics"
   ]
  },
  {
   "cell_type": "code",
   "execution_count": 5,
   "id": "ecd822f7",
   "metadata": {},
   "outputs": [
    {
     "name": "stdout",
     "output_type": "stream",
     "text": [
      "\n",
      "📊 Summary Statistics for Numerical Columns:\n",
      "\n",
      "╒═══════════════╤═════════╤═══════════╤═══════════╤═══════╤════════╤════════╤════════╤═══════════════╕\n",
      "│               │   count │      mean │       std │   min │    25% │    50% │    75% │           max │\n",
      "╞═══════════════╪═════════╪═══════════╪═══════════╪═══════╪════════╪════════╪════════╪═══════════════╡\n",
      "│ work_year     │  136757 │   2024.37 │      0.68 │  2020 │   2024 │   2024 │   2025 │   2025        │\n",
      "├───────────────┼─────────┼───────────┼───────────┼───────┼────────┼────────┼────────┼───────────────┤\n",
      "│ salary        │  136757 │ 163043    │ 215044    │ 14000 │ 106000 │ 147000 │ 198800 │      3.04e+07 │\n",
      "├───────────────┼─────────┼───────────┼───────────┼───────┼────────┼────────┼────────┼───────────────┤\n",
      "│ salary_in_usd │  136757 │ 157491    │  74173.6  │ 15000 │ 105900 │ 146000 │ 197800 │ 800000        │\n",
      "├───────────────┼─────────┼───────────┼───────────┼───────┼────────┼────────┼────────┼───────────────┤\n",
      "│ remote_ratio  │  136757 │     20.91 │     40.59 │     0 │      0 │      0 │      0 │    100        │\n",
      "╘═══════════════╧═════════╧═══════════╧═══════════╧═══════╧════════╧════════╧════════╧═══════════════╛\n",
      "\n",
      "🔤 Summary Statistics for Categorical Columns:\n",
      "\n",
      "╒════════════════════╤═════════╤══════════╤════════════════╤════════╕\n",
      "│                    │   count │   unique │ top            │   freq │\n",
      "╞════════════════════╪═════════╪══════════╪════════════════╪════════╡\n",
      "│ experience_level   │  136757 │        4 │ SE             │  79164 │\n",
      "├────────────────────┼─────────┼──────────┼────────────────┼────────┤\n",
      "│ employment_type    │  136757 │        4 │ FT             │ 135955 │\n",
      "├────────────────────┼─────────┼──────────┼────────────────┼────────┤\n",
      "│ job_title          │  136757 │      398 │ Data Scientist │  17574 │\n",
      "├────────────────────┼─────────┼──────────┼────────────────┼────────┤\n",
      "│ salary_currency    │  136757 │       26 │ USD            │ 129360 │\n",
      "├────────────────────┼─────────┼──────────┼────────────────┼────────┤\n",
      "│ employee_residence │  136757 │      102 │ US             │ 122570 │\n",
      "├────────────────────┼─────────┼──────────┼────────────────┼────────┤\n",
      "│ company_location   │  136757 │       95 │ US             │ 122633 │\n",
      "├────────────────────┼─────────┼──────────┼────────────────┼────────┤\n",
      "│ company_size       │  136757 │        3 │ M              │ 132906 │\n",
      "╘════════════════════╧═════════╧══════════╧════════════════╧════════╛\n"
     ]
    }
   ],
   "source": [
    "summary_stats = df.describe().T.round(2)  # Transpose + round for better format\n",
    "summary_stats_categorical = df.describe(include=['category']).T\n",
    "# summary_stats = summary_stats.applymap(lambda x: f\"{x:,.2f}\" if isinstance(x, (int, float)) else x)\n",
    "print(\"\\n📊 Summary Statistics for Numerical Columns:\\n\")\n",
    "print(tabulate(summary_stats, headers='keys', tablefmt='fancy_grid'))\n",
    "print(\"\\n🔤 Summary Statistics for Categorical Columns:\\n\")\n",
    "print(tabulate(summary_stats_categorical, headers='keys', tablefmt='fancy_grid'))\n"
   ]
  },
  {
   "cell_type": "code",
   "execution_count": 6,
   "id": "51b256c3",
   "metadata": {},
   "outputs": [
    {
     "name": "stdout",
     "output_type": "stream",
     "text": [
      "\n",
      "📈 Analyzing column: salary_in_usd\n",
      "Mean: 157,490.72, Std: 74,173.55, Skew: 1.37\n"
     ]
    },
    {
     "data": {
      "image/png": "[encoded data removed]",
      "text/plain": [
       "<Figure size 2000x500 with 3 Axes>"
      ]
     },
     "metadata": {},
     "output_type": "display_data"
    }
   ],
   "source": [
    "import scipy.stats as stats\n",
    "\n",
    "\n",
    "# Optional: set global formatting\n",
    "pd.set_option('display.float_format', lambda x: f'{x:,.2f}')\n",
    "\n",
    "# Identify numerical columns\n",
    "num_cols = [col for col in df.columns if pd.api.types.is_numeric_dtype(df[col]) and col not in ['work_year','salary','remote_ratio']]\n",
    "\n",
    "target_col = 'salary_in_usd'\n",
    "\n",
    "for col in num_cols:\n",
    "    print(f\"\\n📈 Analyzing column: {col}\")\n",
    "    \n",
    "    fig, axes = plt.subplots(1, 3, figsize=(20, 5))\n",
    "\n",
    "    # --- Histogram with KDE ---\n",
    "    sns.histplot(df[col], ax=axes[0], kde=True, color='skyblue')\n",
    "    mean_val = df[col].mean()\n",
    "    axes[0].axvline(mean_val, color='green', linestyle='--', linewidth=2)\n",
    "    axes[0].text(mean_val, axes[0].get_ylim()[1] * 0.9, \"Mean\", color='black', fontsize=12)\n",
    "    axes[0].set_title(f'{col} Histogram', fontsize=14)\n",
    "\n",
    "    if col != target_col:\n",
    "        sns.regplot(x=df[col], y=df[target_col], ax=axes[1], scatter_kws={'alpha':0.5}, line_kws={'color': 'red'})\n",
    "        axes[1].set_title(f'{col} vs {target_col}', fontsize=14)\n",
    "    else:\n",
    "        axes[1].axis('off')  # No scatter if it's the target\n",
    "\n",
    "    # --- Q-Q plot ---\n",
    "    stats.probplot(df[col], dist=\"norm\", plot=axes[2])\n",
    "    axes[2].set_title(f'{col} Q-Q Plot', fontsize=14)\n",
    "\n",
    "    # --- Print basic stats ---\n",
    "    std_val = df[col].std()\n",
    "    skew_val = df[col].skew()\n",
    "    print(f'Mean: {mean_val:,.2f}, Std: {std_val:,.2f}, Skew: {skew_val:,.2f}')\n",
    "\n",
    "    plt.tight_layout()\n",
    "    sns.despine()\n",
    "    plt.show()\n"
   ]
  },
  {
   "cell_type": "markdown",
   "id": "e7808243",
   "metadata": {},
   "source": [
    "#### Insights:\n",
    "- The distribution of `salary_in_usd` is slightly right-skewed as skewness = 1.37.\n",
    "- This indicates the presence of outliers or extreme values in the target variable."
   ]
  },
  {
   "cell_type": "markdown",
   "id": "d6571faa",
   "metadata": {},
   "source": [
    "### Outliers Check:"
   ]
  },
  {
   "cell_type": "code",
   "execution_count": 7,
   "id": "90eb93cd",
   "metadata": {},
   "outputs": [
    {
     "data": {
      "text/plain": [
       "Text(0.5, 1.0, 'Salary in USD Box Plot')"
      ]
     },
     "execution_count": 7,
     "metadata": {},
     "output_type": "execute_result"
    },
    {
     "data": {
      "image/png": "[encoded data removed]",
      "text/plain": [
       "<Figure size 1000x500 with 1 Axes>"
      ]
     },
     "metadata": {},
     "output_type": "display_data"
    }
   ],
   "source": [
    "df['salary_in_usd'].plot(kind='box', figsize=(10, 5), color='skyblue')\n",
    "plt.title('Salary in USD Box Plot', fontsize=14)"
   ]
  },
  {
   "cell_type": "markdown",
   "id": "ebd2e311",
   "metadata": {},
   "source": [
    "- There are someome outliers in the salary_in_usd column."
   ]
  },
  {
   "cell_type": "code",
   "execution_count": 8,
   "id": "3702eae0",
   "metadata": {},
   "outputs": [
    {
     "data": {
      "application/vnd.microsoft.datawrangler.viewer.v0+json": {
       "columns": [
        {
         "name": "index",
         "rawType": "int64",
         "type": "integer"
        },
        {
         "name": "work_year",
         "rawType": "int16",
         "type": "integer"
        },
        {
         "name": "experience_level",
         "rawType": "category",
         "type": "unknown"
        },
        {
         "name": "employment_type",
         "rawType": "category",
         "type": "unknown"
        },
        {
         "name": "job_title",
         "rawType": "category",
         "type": "unknown"
        },
        {
         "name": "salary",
         "rawType": "int32",
         "type": "integer"
        },
        {
         "name": "salary_currency",
         "rawType": "category",
         "type": "unknown"
        },
        {
         "name": "salary_in_usd",
         "rawType": "int32",
         "type": "integer"
        },
        {
         "name": "employee_residence",
         "rawType": "category",
         "type": "unknown"
        },
        {
         "name": "remote_ratio",
         "rawType": "int8",
         "type": "integer"
        },
        {
         "name": "company_location",
         "rawType": "category",
         "type": "unknown"
        },
        {
         "name": "company_size",
         "rawType": "category",
         "type": "unknown"
        }
       ],
       "ref": "d47a08d0-71a1-4634-99b5-856312550d5a",
       "rows": [
        [
         "0",
         "2025",
         "MI",
         "FT",
         "Data Scientist",
         "132600",
         "USD",
         "132600",
         "US",
         "100",
         "US",
         "M"
        ],
        [
         "1",
         "2025",
         "MI",
         "FT",
         "Data Scientist",
         "102000",
         "USD",
         "102000",
         "US",
         "100",
         "US",
         "M"
        ],
        [
         "2",
         "2025",
         "SE",
         "FT",
         "Data Product Manager",
         "260520",
         "USD",
         "260520",
         "US",
         "0",
         "US",
         "M"
        ],
        [
         "3",
         "2025",
         "SE",
         "FT",
         "Data Product Manager",
         "140280",
         "USD",
         "140280",
         "US",
         "0",
         "US",
         "M"
        ],
        [
         "4",
         "2025",
         "SE",
         "FT",
         "Machine Learning Engineer",
         "215000",
         "USD",
         "215000",
         "US",
         "0",
         "US",
         "M"
        ]
       ],
       "shape": {
        "columns": 11,
        "rows": 5
       }
      },
      "text/html": [
       "<div>\n",
       "<style scoped>\n",
       "    .dataframe tbody tr th:only-of-type {\n",
       "        vertical-align: middle;\n",
       "    }\n",
       "\n",
       "    .dataframe tbody tr th {\n",
       "        vertical-align: top;\n",
       "    }\n",
       "\n",
       "    .dataframe thead th {\n",
       "        text-align: right;\n",
       "    }\n",
       "</style>\n",
       "<table border=\"1\" class=\"dataframe\">\n",
       "  <thead>\n",
       "    <tr style=\"text-align: right;\">\n",
       "      <th></th>\n",
       "      <th>work_year</th>\n",
       "      <th>experience_level</th>\n",
       "      <th>employment_type</th>\n",
       "      <th>job_title</th>\n",
       "      <th>salary</th>\n",
       "      <th>salary_currency</th>\n",
       "      <th>salary_in_usd</th>\n",
       "      <th>employee_residence</th>\n",
       "      <th>remote_ratio</th>\n",
       "      <th>company_location</th>\n",
       "      <th>company_size</th>\n",
       "    </tr>\n",
       "  </thead>\n",
       "  <tbody>\n",
       "    <tr>\n",
       "      <th>0</th>\n",
       "      <td>2025</td>\n",
       "      <td>MI</td>\n",
       "      <td>FT</td>\n",
       "      <td>Data Scientist</td>\n",
       "      <td>132600</td>\n",
       "      <td>USD</td>\n",
       "      <td>132600</td>\n",
       "      <td>US</td>\n",
       "      <td>100</td>\n",
       "      <td>US</td>\n",
       "      <td>M</td>\n",
       "    </tr>\n",
       "    <tr>\n",
       "      <th>1</th>\n",
       "      <td>2025</td>\n",
       "      <td>MI</td>\n",
       "      <td>FT</td>\n",
       "      <td>Data Scientist</td>\n",
       "      <td>102000</td>\n",
       "      <td>USD</td>\n",
       "      <td>102000</td>\n",
       "      <td>US</td>\n",
       "      <td>100</td>\n",
       "      <td>US</td>\n",
       "      <td>M</td>\n",
       "    </tr>\n",
       "    <tr>\n",
       "      <th>2</th>\n",
       "      <td>2025</td>\n",
       "      <td>SE</td>\n",
       "      <td>FT</td>\n",
       "      <td>Data Product Manager</td>\n",
       "      <td>260520</td>\n",
       "      <td>USD</td>\n",
       "      <td>260520</td>\n",
       "      <td>US</td>\n",
       "      <td>0</td>\n",
       "      <td>US</td>\n",
       "      <td>M</td>\n",
       "    </tr>\n",
       "    <tr>\n",
       "      <th>3</th>\n",
       "      <td>2025</td>\n",
       "      <td>SE</td>\n",
       "      <td>FT</td>\n",
       "      <td>Data Product Manager</td>\n",
       "      <td>140280</td>\n",
       "      <td>USD</td>\n",
       "      <td>140280</td>\n",
       "      <td>US</td>\n",
       "      <td>0</td>\n",
       "      <td>US</td>\n",
       "      <td>M</td>\n",
       "    </tr>\n",
       "    <tr>\n",
       "      <th>4</th>\n",
       "      <td>2025</td>\n",
       "      <td>SE</td>\n",
       "      <td>FT</td>\n",
       "      <td>Machine Learning Engineer</td>\n",
       "      <td>215000</td>\n",
       "      <td>USD</td>\n",
       "      <td>215000</td>\n",
       "      <td>US</td>\n",
       "      <td>0</td>\n",
       "      <td>US</td>\n",
       "      <td>M</td>\n",
       "    </tr>\n",
       "  </tbody>\n",
       "</table>\n",
       "</div>"
      ],
      "text/plain": [
       "   work_year experience_level employment_type                  job_title  \\\n",
       "0       2025               MI              FT             Data Scientist   \n",
       "1       2025               MI              FT             Data Scientist   \n",
       "2       2025               SE              FT       Data Product Manager   \n",
       "3       2025               SE              FT       Data Product Manager   \n",
       "4       2025               SE              FT  Machine Learning Engineer   \n",
       "\n",
       "   salary salary_currency  salary_in_usd employee_residence  remote_ratio  \\\n",
       "0  132600             USD         132600                 US           100   \n",
       "1  102000             USD         102000                 US           100   \n",
       "2  260520             USD         260520                 US             0   \n",
       "3  140280             USD         140280                 US             0   \n",
       "4  215000             USD         215000                 US             0   \n",
       "\n",
       "  company_location company_size  \n",
       "0               US            M  \n",
       "1               US            M  \n",
       "2               US            M  \n",
       "3               US            M  \n",
       "4               US            M  "
      ]
     },
     "execution_count": 8,
     "metadata": {},
     "output_type": "execute_result"
    }
   ],
   "source": [
    "df.head()"
   ]
  },
  {
   "cell_type": "markdown",
   "id": "77728f40",
   "metadata": {},
   "source": [
    "## Bivariateate Analysis"
   ]
  },
  {
   "cell_type": "markdown",
   "id": "deafb7f4",
   "metadata": {},
   "source": [
    "### Salary by Experience level"
   ]
  },
  {
   "cell_type": "code",
   "execution_count": 9,
   "id": "e7c3b7fc",
   "metadata": {},
   "outputs": [
    {
     "data": {
      "image/png": "[encoded data removed]",
      "text/plain": [
       "<Figure size 1200x600 with 1 Axes>"
      ]
     },
     "metadata": {},
     "output_type": "display_data"
    }
   ],
   "source": [
    "\n",
    "plt.figure(figsize=(12, 6))\n",
    "sns.barplot(data=df, x='experience_level', y='salary_in_usd', estimator=np.median, ci=None, palette='Blues')\n",
    "\n",
    "# Add title and labels\n",
    "plt.title('Median Salary in USD by Experience Level')\n",
    "plt.xlabel('Experience Level')\n",
    "plt.ylabel('Median Salary in USD')\n",
    "\n",
    "# Add grid for better readability\n",
    "# plt.grid(axis='y', linestyle='--', alpha=0.7)\n",
    "\n",
    "# Show the plot\n",
    "plt.show()"
   ]
  },
  {
   "cell_type": "markdown",
   "id": "403f043c",
   "metadata": {},
   "source": [
    "#### Insights:\n",
    "- Executives level are making highest median salary in USD.\n",
    "- Senior Level is the second highest\n",
    "> Median value  is selected as measure of central tendency because its robust to extreme values."
   ]
  },
  {
   "cell_type": "markdown",
   "id": "a5734e94",
   "metadata": {},
   "source": [
    "### Salary by residence"
   ]
  },
  {
   "cell_type": "code",
   "execution_count": 10,
   "id": "7d81d693",
   "metadata": {},
   "outputs": [
    {
     "data": {
      "application/vnd.microsoft.datawrangler.viewer.v0+json": {
       "columns": [
        {
         "name": "employee_residence",
         "rawType": "category",
         "type": "unknown"
        },
        {
         "name": "salary_in_usd",
         "rawType": "float64",
         "type": "float"
        }
       ],
       "ref": "809c1b3c-9fbf-4fcd-8946-0f776e34cf4a",
       "rows": [
        [
         "QA",
         "300000.0"
        ],
        [
         "CD",
         "275000.0"
        ],
        [
         "VE",
         "192500.0"
        ],
        [
         "US",
         "151232.5"
        ],
        [
         "SA",
         "150000.0"
        ],
        [
         "PR",
         "135000.0"
        ],
        [
         "CN",
         "125404.0"
        ],
        [
         "CH",
         "122638.0"
        ],
        [
         "NZ",
         "122551.5"
        ],
        [
         "LB",
         "122500.0"
        ],
        [
         "CA",
         "119800.0"
        ],
        [
         "AU",
         "117363.0"
        ],
        [
         "IL",
         "116756.0"
        ],
        [
         "SG",
         "116417.0"
        ],
        [
         "HK",
         "109604.5"
        ],
        [
         "DK",
         "100000.0"
        ],
        [
         "MU",
         "100000.0"
        ],
        [
         "BM",
         "100000.0"
        ],
        [
         "IE",
         "100000.0"
        ],
        [
         "JE",
         "100000.0"
        ],
        [
         "UZ",
         "100000.0"
        ],
        [
         "IQ",
         "100000.0"
        ],
        [
         "IR",
         "100000.0"
        ],
        [
         "BG",
         "99999.5"
        ],
        [
         "BE",
         "97922.0"
        ],
        [
         "EG",
         "96600.0"
        ],
        [
         "AE",
         "95000.0"
        ],
        [
         "KR",
         "91464.0"
        ],
        [
         "TN",
         "90234.5"
        ],
        [
         "PA",
         "89976.0"
        ],
        [
         "DE",
         "88117.0"
        ],
        [
         "SE",
         "85631.0"
        ],
        [
         "RW",
         "80000.0"
        ],
        [
         "MT",
         "78800.0"
        ],
        [
         "NO",
         "76508.0"
        ],
        [
         "GB",
         "75949.0"
        ],
        [
         "LS",
         "75657.5"
        ],
        [
         "BO",
         "75000.0"
        ],
        [
         "BA",
         "75000.0"
        ],
        [
         "JP",
         "74800.0"
        ],
        [
         "PL",
         "73855.0"
        ],
        [
         "NL",
         "71372.0"
        ],
        [
         "MK",
         "71000.0"
        ],
        [
         "MY",
         "69231.0"
        ],
        [
         "IT",
         "69210.5"
        ],
        [
         "MD",
         "66500.0"
        ],
        [
         "LU",
         "65866.5"
        ],
        [
         "AR",
         "64800.0"
        ],
        [
         "ID",
         "63774.0"
        ],
        [
         "CZ",
         "60779.0"
        ]
       ],
       "shape": {
        "columns": 1,
        "rows": 102
       }
      },
      "text/plain": [
       "employee_residence\n",
       "QA   300,000.00\n",
       "CD   275,000.00\n",
       "VE   192,500.00\n",
       "US   151,232.50\n",
       "SA   150,000.00\n",
       "        ...    \n",
       "HU    21,162.00\n",
       "TW    19,284.00\n",
       "EC    16,000.00\n",
       "DO    16,000.00\n",
       "SV    16,000.00\n",
       "Name: salary_in_usd, Length: 102, dtype: float64"
      ]
     },
     "execution_count": 10,
     "metadata": {},
     "output_type": "execute_result"
    }
   ],
   "source": [
    "\n",
    "df.groupby(\"employee_residence\")[\"salary_in_usd\"].median().sort_values(ascending=False)"
   ]
  },
  {
   "cell_type": "markdown",
   "id": "08e7ff77",
   "metadata": {},
   "source": [
    "#### insights:\n",
    "\n",
    "\n",
    "\n",
    "* **Top Salaries:** Qatar ($300,000) and Democratic Republic of the Congo ($275,000) offer the highest salaries.\n",
    "* **Mid-Range Salaries:** The United States ($151,232), Saudi Arabia ($150,000), and Puerto Rico ($135,000) show mid-level compensation.\n",
    "* **Lower-Range Salaries:** Salaries in People's Republic of China ($125,404), Switzerland ($122,638), New Zealand ($122,552), and Lebanon ($122,500) are clustered at the lower end of the spectrum.\n",
    "* **Significant Geographic Impact:** Employee residence plays a substantial role in salary, with a wide range from $122,500 to $300,000 across countries."
   ]
  },
  {
   "cell_type": "markdown",
   "id": "325b486d",
   "metadata": {},
   "source": [
    "### Salary by work status"
   ]
  },
  {
   "cell_type": "code",
   "execution_count": 11,
   "id": "60ff7741",
   "metadata": {},
   "outputs": [
    {
     "data": {
      "image/png": "[encoded data removed]",
      "text/plain": [
       "<Figure size 1200x600 with 1 Axes>"
      ]
     },
     "metadata": {},
     "output_type": "display_data"
    }
   ],
   "source": [
    "# change columns name and values inside the the columns\n",
    "df.rename(columns={\n",
    "    'remote_ratio': 'work_status'}, inplace=True)\n",
    "df['work_status']  = df['work_status'].astype('category')\n",
    "df['work_status'] = df['work_status'].replace({\n",
    "    0: 'Onsite',\n",
    "    50: 'Hybrid',\n",
    "    100: 'Remote'\n",
    "})\n",
    "\n",
    "\n",
    "plt.figure(figsize=(12, 6))\n",
    "sns.barplot(data=df, x='work_status', y='salary_in_usd', estimator=np.median, ci=None, palette='Blues')\n",
    "\n",
    "# Add title and labels\n",
    "plt.title('Median Salary in USD by work status')\n",
    "plt.xlabel('work status')\n",
    "plt.ylabel('Median Salary in USD')\n",
    "\n",
    "# Add grid for better readability\n",
    "# plt.grid(axis='y', linestyle='--', alpha=0.7)\n",
    "\n",
    "# Show the plot\n",
    "plt.show()"
   ]
  },
  {
   "cell_type": "markdown",
   "id": "2e967e0c",
   "metadata": {},
   "source": [
    "#### Insights:\n",
    "- Median salary for remote and onsite is similar but `Onsite` is slightly higher.\n",
    "- `Hybrid` work status has the lowest median salary."
   ]
  },
  {
   "cell_type": "code",
   "execution_count": 12,
   "id": "9b041935",
   "metadata": {},
   "outputs": [
    {
     "data": {
      "application/vnd.microsoft.datawrangler.viewer.v0+json": {
       "columns": [
        {
         "name": "index",
         "rawType": "int64",
         "type": "integer"
        },
        {
         "name": "work_year",
         "rawType": "int16",
         "type": "integer"
        },
        {
         "name": "experience_level",
         "rawType": "category",
         "type": "unknown"
        },
        {
         "name": "employment_type",
         "rawType": "category",
         "type": "unknown"
        },
        {
         "name": "job_title",
         "rawType": "category",
         "type": "unknown"
        },
        {
         "name": "salary",
         "rawType": "int32",
         "type": "integer"
        },
        {
         "name": "salary_currency",
         "rawType": "category",
         "type": "unknown"
        },
        {
         "name": "salary_in_usd",
         "rawType": "int32",
         "type": "integer"
        },
        {
         "name": "employee_residence",
         "rawType": "category",
         "type": "unknown"
        },
        {
         "name": "work_status",
         "rawType": "category",
         "type": "unknown"
        },
        {
         "name": "company_location",
         "rawType": "category",
         "type": "unknown"
        },
        {
         "name": "company_size",
         "rawType": "category",
         "type": "unknown"
        }
       ],
       "ref": "5c076452-8fbb-49f5-840f-b849f0f0f9f8",
       "rows": [
        [
         "0",
         "2025",
         "MI",
         "FT",
         "Data Scientist",
         "132600",
         "USD",
         "132600",
         "US",
         "Remote",
         "US",
         "M"
        ],
        [
         "1",
         "2025",
         "MI",
         "FT",
         "Data Scientist",
         "102000",
         "USD",
         "102000",
         "US",
         "Remote",
         "US",
         "M"
        ],
        [
         "2",
         "2025",
         "SE",
         "FT",
         "Data Product Manager",
         "260520",
         "USD",
         "260520",
         "US",
         "Onsite",
         "US",
         "M"
        ],
        [
         "3",
         "2025",
         "SE",
         "FT",
         "Data Product Manager",
         "140280",
         "USD",
         "140280",
         "US",
         "Onsite",
         "US",
         "M"
        ],
        [
         "4",
         "2025",
         "SE",
         "FT",
         "Machine Learning Engineer",
         "215000",
         "USD",
         "215000",
         "US",
         "Onsite",
         "US",
         "M"
        ]
       ],
       "shape": {
        "columns": 11,
        "rows": 5
       }
      },
      "text/html": [
       "<div>\n",
       "<style scoped>\n",
       "    .dataframe tbody tr th:only-of-type {\n",
       "        vertical-align: middle;\n",
       "    }\n",
       "\n",
       "    .dataframe tbody tr th {\n",
       "        vertical-align: top;\n",
       "    }\n",
       "\n",
       "    .dataframe thead th {\n",
       "        text-align: right;\n",
       "    }\n",
       "</style>\n",
       "<table border=\"1\" class=\"dataframe\">\n",
       "  <thead>\n",
       "    <tr style=\"text-align: right;\">\n",
       "      <th></th>\n",
       "      <th>work_year</th>\n",
       "      <th>experience_level</th>\n",
       "      <th>employment_type</th>\n",
       "      <th>job_title</th>\n",
       "      <th>salary</th>\n",
       "      <th>salary_currency</th>\n",
       "      <th>salary_in_usd</th>\n",
       "      <th>employee_residence</th>\n",
       "      <th>work_status</th>\n",
       "      <th>company_location</th>\n",
       "      <th>company_size</th>\n",
       "    </tr>\n",
       "  </thead>\n",
       "  <tbody>\n",
       "    <tr>\n",
       "      <th>0</th>\n",
       "      <td>2025</td>\n",
       "      <td>MI</td>\n",
       "      <td>FT</td>\n",
       "      <td>Data Scientist</td>\n",
       "      <td>132600</td>\n",
       "      <td>USD</td>\n",
       "      <td>132600</td>\n",
       "      <td>US</td>\n",
       "      <td>Remote</td>\n",
       "      <td>US</td>\n",
       "      <td>M</td>\n",
       "    </tr>\n",
       "    <tr>\n",
       "      <th>1</th>\n",
       "      <td>2025</td>\n",
       "      <td>MI</td>\n",
       "      <td>FT</td>\n",
       "      <td>Data Scientist</td>\n",
       "      <td>102000</td>\n",
       "      <td>USD</td>\n",
       "      <td>102000</td>\n",
       "      <td>US</td>\n",
       "      <td>Remote</td>\n",
       "      <td>US</td>\n",
       "      <td>M</td>\n",
       "    </tr>\n",
       "    <tr>\n",
       "      <th>2</th>\n",
       "      <td>2025</td>\n",
       "      <td>SE</td>\n",
       "      <td>FT</td>\n",
       "      <td>Data Product Manager</td>\n",
       "      <td>260520</td>\n",
       "      <td>USD</td>\n",
       "      <td>260520</td>\n",
       "      <td>US</td>\n",
       "      <td>Onsite</td>\n",
       "      <td>US</td>\n",
       "      <td>M</td>\n",
       "    </tr>\n",
       "    <tr>\n",
       "      <th>3</th>\n",
       "      <td>2025</td>\n",
       "      <td>SE</td>\n",
       "      <td>FT</td>\n",
       "      <td>Data Product Manager</td>\n",
       "      <td>140280</td>\n",
       "      <td>USD</td>\n",
       "      <td>140280</td>\n",
       "      <td>US</td>\n",
       "      <td>Onsite</td>\n",
       "      <td>US</td>\n",
       "      <td>M</td>\n",
       "    </tr>\n",
       "    <tr>\n",
       "      <th>4</th>\n",
       "      <td>2025</td>\n",
       "      <td>SE</td>\n",
       "      <td>FT</td>\n",
       "      <td>Machine Learning Engineer</td>\n",
       "      <td>215000</td>\n",
       "      <td>USD</td>\n",
       "      <td>215000</td>\n",
       "      <td>US</td>\n",
       "      <td>Onsite</td>\n",
       "      <td>US</td>\n",
       "      <td>M</td>\n",
       "    </tr>\n",
       "  </tbody>\n",
       "</table>\n",
       "</div>"
      ],
      "text/plain": [
       "   work_year experience_level employment_type                  job_title  \\\n",
       "0       2025               MI              FT             Data Scientist   \n",
       "1       2025               MI              FT             Data Scientist   \n",
       "2       2025               SE              FT       Data Product Manager   \n",
       "3       2025               SE              FT       Data Product Manager   \n",
       "4       2025               SE              FT  Machine Learning Engineer   \n",
       "\n",
       "   salary salary_currency  salary_in_usd employee_residence work_status  \\\n",
       "0  132600             USD         132600                 US      Remote   \n",
       "1  102000             USD         102000                 US      Remote   \n",
       "2  260520             USD         260520                 US      Onsite   \n",
       "3  140280             USD         140280                 US      Onsite   \n",
       "4  215000             USD         215000                 US      Onsite   \n",
       "\n",
       "  company_location company_size  \n",
       "0               US            M  \n",
       "1               US            M  \n",
       "2               US            M  \n",
       "3               US            M  \n",
       "4               US            M  "
      ]
     },
     "execution_count": 12,
     "metadata": {},
     "output_type": "execute_result"
    }
   ],
   "source": [
    "df.head()"
   ]
  },
  {
   "cell_type": "markdown",
   "id": "36d5069a",
   "metadata": {},
   "source": [
    "### Salary Salary Over Years"
   ]
  },
  {
   "cell_type": "code",
   "execution_count": 13,
   "id": "4024decd",
   "metadata": {},
   "outputs": [
    {
     "data": {
      "image/png": "[encoded data removed]",
      "text/plain": [
       "<Figure size 1200x600 with 1 Axes>"
      ]
     },
     "metadata": {},
     "output_type": "display_data"
    }
   ],
   "source": [
    "plt.figure(figsize=(12, 6))\n",
    "sns.lineplot(data=df, x='work_year', y='salary_in_usd', estimator=np.median, ci=None, marker='o', color='blue')\n",
    "plt.title('Median Salary in USD by Year')\n",
    "plt.grid(axis='y', linestyle='--', alpha=0.7)\n",
    "plt.xlabel('Year')\n",
    "plt.ylabel('Median Salary in USD')\n",
    "plt.xticks(rotation=45)\n",
    "plt.show()\n"
   ]
  },
  {
   "cell_type": "markdown",
   "id": "e25f07bd",
   "metadata": {},
   "source": [
    "#### Insights:\n",
    " - A significant jump is observed in 2022, with median salary rising to about $131,000 — over a 60% increase compared to 2021.\n",
    " -  Salaries kept rising, reaching around $145,000 in 2023 and peaking near $149,000 in 2024.\n",
    " -  Median salary decreased a bit in 2025, falling back to roughly $145,000.\n",
    " -  The general trajectory from 2020 to 2025 shows strong upward movement in median salaries."
   ]
  },
  {
   "cell_type": "code",
   "execution_count": 21,
   "id": "86b8019b",
   "metadata": {},
   "outputs": [
    {
     "data": {
      "application/vnd.microsoft.datawrangler.viewer.v0+json": {
       "columns": [
        {
         "name": "index",
         "rawType": "int64",
         "type": "integer"
        },
        {
         "name": "work_year",
         "rawType": "int16",
         "type": "integer"
        },
        {
         "name": "experience_level",
         "rawType": "category",
         "type": "unknown"
        },
        {
         "name": "employment_type",
         "rawType": "category",
         "type": "unknown"
        },
        {
         "name": "job_title",
         "rawType": "category",
         "type": "unknown"
        },
        {
         "name": "salary",
         "rawType": "int32",
         "type": "integer"
        },
        {
         "name": "salary_currency",
         "rawType": "category",
         "type": "unknown"
        },
        {
         "name": "salary_in_usd",
         "rawType": "int32",
         "type": "integer"
        },
        {
         "name": "employee_residence",
         "rawType": "category",
         "type": "unknown"
        },
        {
         "name": "work_status",
         "rawType": "category",
         "type": "unknown"
        },
        {
         "name": "company_location",
         "rawType": "category",
         "type": "unknown"
        },
        {
         "name": "company_size",
         "rawType": "category",
         "type": "unknown"
        }
       ],
       "ref": "dbea60db-db32-4faf-8b91-8600aa14834b",
       "rows": [
        [
         "0",
         "2025",
         "MI",
         "FT",
         "Data Scientist",
         "132600",
         "USD",
         "132600",
         "US",
         "Remote",
         "US",
         "M"
        ],
        [
         "1",
         "2025",
         "MI",
         "FT",
         "Data Scientist",
         "102000",
         "USD",
         "102000",
         "US",
         "Remote",
         "US",
         "M"
        ],
        [
         "2",
         "2025",
         "SE",
         "FT",
         "Data Product Manager",
         "260520",
         "USD",
         "260520",
         "US",
         "Onsite",
         "US",
         "M"
        ],
        [
         "3",
         "2025",
         "SE",
         "FT",
         "Data Product Manager",
         "140280",
         "USD",
         "140280",
         "US",
         "Onsite",
         "US",
         "M"
        ],
        [
         "4",
         "2025",
         "SE",
         "FT",
         "Machine Learning Engineer",
         "215000",
         "USD",
         "215000",
         "US",
         "Onsite",
         "US",
         "M"
        ]
       ],
       "shape": {
        "columns": 11,
        "rows": 5
       }
      },
      "text/html": [
       "<div>\n",
       "<style scoped>\n",
       "    .dataframe tbody tr th:only-of-type {\n",
       "        vertical-align: middle;\n",
       "    }\n",
       "\n",
       "    .dataframe tbody tr th {\n",
       "        vertical-align: top;\n",
       "    }\n",
       "\n",
       "    .dataframe thead th {\n",
       "        text-align: right;\n",
       "    }\n",
       "</style>\n",
       "<table border=\"1\" class=\"dataframe\">\n",
       "  <thead>\n",
       "    <tr style=\"text-align: right;\">\n",
       "      <th></th>\n",
       "      <th>work_year</th>\n",
       "      <th>experience_level</th>\n",
       "      <th>employment_type</th>\n",
       "      <th>job_title</th>\n",
       "      <th>salary</th>\n",
       "      <th>salary_currency</th>\n",
       "      <th>salary_in_usd</th>\n",
       "      <th>employee_residence</th>\n",
       "      <th>work_status</th>\n",
       "      <th>company_location</th>\n",
       "      <th>company_size</th>\n",
       "    </tr>\n",
       "  </thead>\n",
       "  <tbody>\n",
       "    <tr>\n",
       "      <th>0</th>\n",
       "      <td>2025</td>\n",
       "      <td>MI</td>\n",
       "      <td>FT</td>\n",
       "      <td>Data Scientist</td>\n",
       "      <td>132600</td>\n",
       "      <td>USD</td>\n",
       "      <td>132600</td>\n",
       "      <td>US</td>\n",
       "      <td>Remote</td>\n",
       "      <td>US</td>\n",
       "      <td>M</td>\n",
       "    </tr>\n",
       "    <tr>\n",
       "      <th>1</th>\n",
       "      <td>2025</td>\n",
       "      <td>MI</td>\n",
       "      <td>FT</td>\n",
       "      <td>Data Scientist</td>\n",
       "      <td>102000</td>\n",
       "      <td>USD</td>\n",
       "      <td>102000</td>\n",
       "      <td>US</td>\n",
       "      <td>Remote</td>\n",
       "      <td>US</td>\n",
       "      <td>M</td>\n",
       "    </tr>\n",
       "    <tr>\n",
       "      <th>2</th>\n",
       "      <td>2025</td>\n",
       "      <td>SE</td>\n",
       "      <td>FT</td>\n",
       "      <td>Data Product Manager</td>\n",
       "      <td>260520</td>\n",
       "      <td>USD</td>\n",
       "      <td>260520</td>\n",
       "      <td>US</td>\n",
       "      <td>Onsite</td>\n",
       "      <td>US</td>\n",
       "      <td>M</td>\n",
       "    </tr>\n",
       "    <tr>\n",
       "      <th>3</th>\n",
       "      <td>2025</td>\n",
       "      <td>SE</td>\n",
       "      <td>FT</td>\n",
       "      <td>Data Product Manager</td>\n",
       "      <td>140280</td>\n",
       "      <td>USD</td>\n",
       "      <td>140280</td>\n",
       "      <td>US</td>\n",
       "      <td>Onsite</td>\n",
       "      <td>US</td>\n",
       "      <td>M</td>\n",
       "    </tr>\n",
       "    <tr>\n",
       "      <th>4</th>\n",
       "      <td>2025</td>\n",
       "      <td>SE</td>\n",
       "      <td>FT</td>\n",
       "      <td>Machine Learning Engineer</td>\n",
       "      <td>215000</td>\n",
       "      <td>USD</td>\n",
       "      <td>215000</td>\n",
       "      <td>US</td>\n",
       "      <td>Onsite</td>\n",
       "      <td>US</td>\n",
       "      <td>M</td>\n",
       "    </tr>\n",
       "  </tbody>\n",
       "</table>\n",
       "</div>"
      ],
      "text/plain": [
       "   work_year experience_level employment_type                  job_title  \\\n",
       "0       2025               MI              FT             Data Scientist   \n",
       "1       2025               MI              FT             Data Scientist   \n",
       "2       2025               SE              FT       Data Product Manager   \n",
       "3       2025               SE              FT       Data Product Manager   \n",
       "4       2025               SE              FT  Machine Learning Engineer   \n",
       "\n",
       "   salary salary_currency  salary_in_usd employee_residence work_status  \\\n",
       "0  132600             USD         132600                 US      Remote   \n",
       "1  102000             USD         102000                 US      Remote   \n",
       "2  260520             USD         260520                 US      Onsite   \n",
       "3  140280             USD         140280                 US      Onsite   \n",
       "4  215000             USD         215000                 US      Onsite   \n",
       "\n",
       "  company_location company_size  \n",
       "0               US            M  \n",
       "1               US            M  \n",
       "2               US            M  \n",
       "3               US            M  \n",
       "4               US            M  "
      ]
     },
     "execution_count": 21,
     "metadata": {},
     "output_type": "execute_result"
    }
   ],
   "source": [
    "df.head()"
   ]
  },
  {
   "cell_type": "markdown",
   "id": "946cd8b2",
   "metadata": {},
   "source": [
    "### Salary vs Categorical Features"
   ]
  },
  {
   "cell_type": "code",
   "execution_count": 15,
   "id": "cb5e76ac",
   "metadata": {},
   "outputs": [
    {
     "data": {
      "image/png": "[encoded data removed]",
      "text/plain": [
       "<Figure size 1200x600 with 1 Axes>"
      ]
     },
     "metadata": {},
     "output_type": "display_data"
    },
    {
     "data": {
      "image/png": "[encoded data removed]",
      "text/plain": [
       "<Figure size 1200x600 with 1 Axes>"
      ]
     },
     "metadata": {},
     "output_type": "display_data"
    },
    {
     "data": {
      "image/png": "[encoded data removed]",
      "text/plain": [
       "<Figure size 1200x600 with 1 Axes>"
      ]
     },
     "metadata": {},
     "output_type": "display_data"
    }
   ],
   "source": [
    "\n",
    "def box_plot(df):\n",
    "    categorical_cols = ['work_status','experience_level','employment_type']\n",
    "    for col in categorical_cols:\n",
    "        plt.figure(figsize=(12, 6))\n",
    "        sns.boxenplot(data=df, x=col, y='salary_in_usd', palette='viridis')\n",
    "        plt.title(f'Salary Vs {col}')\n",
    "        plt.xlabel(col)\n",
    "        plt.ylabel('Salary in USD')\n",
    "        plt.xticks(rotation=45)\n",
    "        plt.show()\n",
    "box_plot(df)"
   ]
  },
  {
   "cell_type": "code",
   "execution_count": 22,
   "id": "97375d26",
   "metadata": {},
   "outputs": [
    {
     "data": {
      "application/vnd.microsoft.datawrangler.viewer.v0+json": {
       "columns": [
        {
         "name": "index",
         "rawType": "int64",
         "type": "integer"
        },
        {
         "name": "work_year",
         "rawType": "int16",
         "type": "integer"
        },
        {
         "name": "experience_level",
         "rawType": "category",
         "type": "unknown"
        },
        {
         "name": "employment_type",
         "rawType": "category",
         "type": "unknown"
        },
        {
         "name": "job_title",
         "rawType": "category",
         "type": "unknown"
        },
        {
         "name": "salary",
         "rawType": "int32",
         "type": "integer"
        },
        {
         "name": "salary_currency",
         "rawType": "category",
         "type": "unknown"
        },
        {
         "name": "salary_in_usd",
         "rawType": "int32",
         "type": "integer"
        },
        {
         "name": "employee_residence",
         "rawType": "category",
         "type": "unknown"
        },
        {
         "name": "work_status",
         "rawType": "category",
         "type": "unknown"
        },
        {
         "name": "company_location",
         "rawType": "category",
         "type": "unknown"
        },
        {
         "name": "company_size",
         "rawType": "category",
         "type": "unknown"
        }
       ],
       "ref": "c8fa6428-d5f5-43b7-94b4-f3d9defbe3e3",
       "rows": [
        [
         "0",
         "2025",
         "MI",
         "FT",
         "Data Scientist",
         "132600",
         "USD",
         "132600",
         "US",
         "Remote",
         "US",
         "M"
        ],
        [
         "1",
         "2025",
         "MI",
         "FT",
         "Data Scientist",
         "102000",
         "USD",
         "102000",
         "US",
         "Remote",
         "US",
         "M"
        ],
        [
         "2",
         "2025",
         "SE",
         "FT",
         "Data Product Manager",
         "260520",
         "USD",
         "260520",
         "US",
         "Onsite",
         "US",
         "M"
        ],
        [
         "3",
         "2025",
         "SE",
         "FT",
         "Data Product Manager",
         "140280",
         "USD",
         "140280",
         "US",
         "Onsite",
         "US",
         "M"
        ],
        [
         "4",
         "2025",
         "SE",
         "FT",
         "Machine Learning Engineer",
         "215000",
         "USD",
         "215000",
         "US",
         "Onsite",
         "US",
         "M"
        ]
       ],
       "shape": {
        "columns": 11,
        "rows": 5
       }
      },
      "text/html": [
       "<div>\n",
       "<style scoped>\n",
       "    .dataframe tbody tr th:only-of-type {\n",
       "        vertical-align: middle;\n",
       "    }\n",
       "\n",
       "    .dataframe tbody tr th {\n",
       "        vertical-align: top;\n",
       "    }\n",
       "\n",
       "    .dataframe thead th {\n",
       "        text-align: right;\n",
       "    }\n",
       "</style>\n",
       "<table border=\"1\" class=\"dataframe\">\n",
       "  <thead>\n",
       "    <tr style=\"text-align: right;\">\n",
       "      <th></th>\n",
       "      <th>work_year</th>\n",
       "      <th>experience_level</th>\n",
       "      <th>employment_type</th>\n",
       "      <th>job_title</th>\n",
       "      <th>salary</th>\n",
       "      <th>salary_currency</th>\n",
       "      <th>salary_in_usd</th>\n",
       "      <th>employee_residence</th>\n",
       "      <th>work_status</th>\n",
       "      <th>company_location</th>\n",
       "      <th>company_size</th>\n",
       "    </tr>\n",
       "  </thead>\n",
       "  <tbody>\n",
       "    <tr>\n",
       "      <th>0</th>\n",
       "      <td>2025</td>\n",
       "      <td>MI</td>\n",
       "      <td>FT</td>\n",
       "      <td>Data Scientist</td>\n",
       "      <td>132600</td>\n",
       "      <td>USD</td>\n",
       "      <td>132600</td>\n",
       "      <td>US</td>\n",
       "      <td>Remote</td>\n",
       "      <td>US</td>\n",
       "      <td>M</td>\n",
       "    </tr>\n",
       "    <tr>\n",
       "      <th>1</th>\n",
       "      <td>2025</td>\n",
       "      <td>MI</td>\n",
       "      <td>FT</td>\n",
       "      <td>Data Scientist</td>\n",
       "      <td>102000</td>\n",
       "      <td>USD</td>\n",
       "      <td>102000</td>\n",
       "      <td>US</td>\n",
       "      <td>Remote</td>\n",
       "      <td>US</td>\n",
       "      <td>M</td>\n",
       "    </tr>\n",
       "    <tr>\n",
       "      <th>2</th>\n",
       "      <td>2025</td>\n",
       "      <td>SE</td>\n",
       "      <td>FT</td>\n",
       "      <td>Data Product Manager</td>\n",
       "      <td>260520</td>\n",
       "      <td>USD</td>\n",
       "      <td>260520</td>\n",
       "      <td>US</td>\n",
       "      <td>Onsite</td>\n",
       "      <td>US</td>\n",
       "      <td>M</td>\n",
       "    </tr>\n",
       "    <tr>\n",
       "      <th>3</th>\n",
       "      <td>2025</td>\n",
       "      <td>SE</td>\n",
       "      <td>FT</td>\n",
       "      <td>Data Product Manager</td>\n",
       "      <td>140280</td>\n",
       "      <td>USD</td>\n",
       "      <td>140280</td>\n",
       "      <td>US</td>\n",
       "      <td>Onsite</td>\n",
       "      <td>US</td>\n",
       "      <td>M</td>\n",
       "    </tr>\n",
       "    <tr>\n",
       "      <th>4</th>\n",
       "      <td>2025</td>\n",
       "      <td>SE</td>\n",
       "      <td>FT</td>\n",
       "      <td>Machine Learning Engineer</td>\n",
       "      <td>215000</td>\n",
       "      <td>USD</td>\n",
       "      <td>215000</td>\n",
       "      <td>US</td>\n",
       "      <td>Onsite</td>\n",
       "      <td>US</td>\n",
       "      <td>M</td>\n",
       "    </tr>\n",
       "  </tbody>\n",
       "</table>\n",
       "</div>"
      ],
      "text/plain": [
       "   work_year experience_level employment_type                  job_title  \\\n",
       "0       2025               MI              FT             Data Scientist   \n",
       "1       2025               MI              FT             Data Scientist   \n",
       "2       2025               SE              FT       Data Product Manager   \n",
       "3       2025               SE              FT       Data Product Manager   \n",
       "4       2025               SE              FT  Machine Learning Engineer   \n",
       "\n",
       "   salary salary_currency  salary_in_usd employee_residence work_status  \\\n",
       "0  132600             USD         132600                 US      Remote   \n",
       "1  102000             USD         102000                 US      Remote   \n",
       "2  260520             USD         260520                 US      Onsite   \n",
       "3  140280             USD         140280                 US      Onsite   \n",
       "4  215000             USD         215000                 US      Onsite   \n",
       "\n",
       "  company_location company_size  \n",
       "0               US            M  \n",
       "1               US            M  \n",
       "2               US            M  \n",
       "3               US            M  \n",
       "4               US            M  "
      ]
     },
     "execution_count": 22,
     "metadata": {},
     "output_type": "execute_result"
    }
   ],
   "source": [
    "df.head()"
   ]
  },
  {
   "cell_type": "code",
   "execution_count": 35,
   "id": "acefad28",
   "metadata": {},
   "outputs": [
    {
     "data": {
      "text/plain": [
       "Text(0.5, 1.0, 'Distribution of Salaries')"
      ]
     },
     "execution_count": 35,
     "metadata": {},
     "output_type": "execute_result"
    },
    {
     "data": {
      "image/png": "[encoded data removed]",
      "text/plain": [
       "<Figure size 640x480 with 1 Axes>"
      ]
     },
     "metadata": {},
     "output_type": "display_data"
    }
   ],
   "source": [
    "# generate histogram with kde\n",
    "sns.histplot(np.log1p(df['salary_in_usd']), kde=True, bins=30, color='skyblue')\n",
    "plt.title('Distribution of Salaries')"
   ]
  }
 ],
 "metadata": {
  "kernelspec": {
   "display_name": "Python 3",
   "language": "python",
   "name": "python3"
  },
  "language_info": {
   "codemirror_mode": {
    "name": "ipython",
    "version": 3
   },
   "file_extension": ".py",
   "mimetype": "text/x-python",
   "name": "python",
   "nbconvert_exporter": "python",
   "pygments_lexer": "ipython3",
   "version": "3.13.2"
  }
 },
 "nbformat": 4,
 "nbformat_minor": 5
}
