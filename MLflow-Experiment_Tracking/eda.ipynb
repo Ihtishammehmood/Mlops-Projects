{
 "cells": [
  {
   "cell_type": "code",
   "execution_count": 43,
   "metadata": {},
   "outputs": [
    {
     "name": "stdout",
     "output_type": "stream",
     "text": [
      "The autoreload extension is already loaded. To reload it, use:\n",
      "  %reload_ext autoreload\n"
     ]
    }
   ],
   "source": [
    "from data_ingest import read_csv\n",
    "import pandas as pd\n",
    "import warnings\n",
    "warnings.filterwarnings('ignore')\n",
    "\n",
    "%load_ext autoreload\n",
    "%autoreload 2\n",
    "\n",
    "pd.options.display.float_format = '{:.2f}'.format"
   ]
  },
  {
   "cell_type": "code",
   "execution_count": 44,
   "metadata": {},
   "outputs": [
    {
     "data": {
      "application/vnd.microsoft.datawrangler.viewer.v0+json": {
       "columns": [
        {
         "name": "index",
         "rawType": "int64",
         "type": "integer"
        },
        {
         "name": "currency",
         "rawType": "object",
         "type": "string"
        },
        {
         "name": "base_currency",
         "rawType": "object",
         "type": "string"
        },
        {
         "name": "currency_name",
         "rawType": "object",
         "type": "string"
        },
        {
         "name": "exchange_rate",
         "rawType": "float64",
         "type": "float"
        },
        {
         "name": "date",
         "rawType": "object",
         "type": "string"
        }
       ],
       "conversionMethod": "pd.DataFrame",
       "ref": "61d32107-9157-48c2-b763-4bb82d4bdbd3",
       "rows": [
        [
         "0",
         "ZWL",
         "EUR",
         "Zimbabwean Dollar",
         "335.685477",
         "2025-02-13"
        ],
        [
         "1",
         "GHS",
         "EUR",
         "Ghanaian Cedi",
         "16.077879",
         "2025-02-13"
        ],
        [
         "2",
         "HRK",
         "EUR",
         "Croatian Kuna",
         "7.53629",
         "2025-02-13"
        ],
        [
         "3",
         "HNL",
         "EUR",
         "Honduran Lempira",
         "26.644431",
         "2025-02-13"
        ],
        [
         "4",
         "HKD",
         "EUR",
         "Hong Kong Dollar",
         "8.120492",
         "2025-02-13"
        ]
       ],
       "shape": {
        "columns": 5,
        "rows": 5
       }
      },
      "text/html": [
       "<div>\n",
       "<style scoped>\n",
       "    .dataframe tbody tr th:only-of-type {\n",
       "        vertical-align: middle;\n",
       "    }\n",
       "\n",
       "    .dataframe tbody tr th {\n",
       "        vertical-align: top;\n",
       "    }\n",
       "\n",
       "    .dataframe thead th {\n",
       "        text-align: right;\n",
       "    }\n",
       "</style>\n",
       "<table border=\"1\" class=\"dataframe\">\n",
       "  <thead>\n",
       "    <tr style=\"text-align: right;\">\n",
       "      <th></th>\n",
       "      <th>currency</th>\n",
       "      <th>base_currency</th>\n",
       "      <th>currency_name</th>\n",
       "      <th>exchange_rate</th>\n",
       "      <th>date</th>\n",
       "    </tr>\n",
       "  </thead>\n",
       "  <tbody>\n",
       "    <tr>\n",
       "      <th>0</th>\n",
       "      <td>ZWL</td>\n",
       "      <td>EUR</td>\n",
       "      <td>Zimbabwean Dollar</td>\n",
       "      <td>335.69</td>\n",
       "      <td>2025-02-13</td>\n",
       "    </tr>\n",
       "    <tr>\n",
       "      <th>1</th>\n",
       "      <td>GHS</td>\n",
       "      <td>EUR</td>\n",
       "      <td>Ghanaian Cedi</td>\n",
       "      <td>16.08</td>\n",
       "      <td>2025-02-13</td>\n",
       "    </tr>\n",
       "    <tr>\n",
       "      <th>2</th>\n",
       "      <td>HRK</td>\n",
       "      <td>EUR</td>\n",
       "      <td>Croatian Kuna</td>\n",
       "      <td>7.54</td>\n",
       "      <td>2025-02-13</td>\n",
       "    </tr>\n",
       "    <tr>\n",
       "      <th>3</th>\n",
       "      <td>HNL</td>\n",
       "      <td>EUR</td>\n",
       "      <td>Honduran Lempira</td>\n",
       "      <td>26.64</td>\n",
       "      <td>2025-02-13</td>\n",
       "    </tr>\n",
       "    <tr>\n",
       "      <th>4</th>\n",
       "      <td>HKD</td>\n",
       "      <td>EUR</td>\n",
       "      <td>Hong Kong Dollar</td>\n",
       "      <td>8.12</td>\n",
       "      <td>2025-02-13</td>\n",
       "    </tr>\n",
       "  </tbody>\n",
       "</table>\n",
       "</div>"
      ],
      "text/plain": [
       "  currency base_currency      currency_name  exchange_rate        date\n",
       "0      ZWL           EUR  Zimbabwean Dollar         335.69  2025-02-13\n",
       "1      GHS           EUR      Ghanaian Cedi          16.08  2025-02-13\n",
       "2      HRK           EUR      Croatian Kuna           7.54  2025-02-13\n",
       "3      HNL           EUR   Honduran Lempira          26.64  2025-02-13\n",
       "4      HKD           EUR   Hong Kong Dollar           8.12  2025-02-13"
      ]
     },
     "execution_count": 44,
     "metadata": {},
     "output_type": "execute_result"
    }
   ],
   "source": [
    "df = read_csv('data_source\\daily_forex_rates.csv')\n",
    "df.head()"
   ]
  },
  {
   "cell_type": "code",
   "execution_count": 45,
   "metadata": {},
   "outputs": [],
   "source": [
    "def clean_data(df):\n",
    "    df = df.astype({'currency': 'category'})\n",
    "    df = df.astype({'base_currency': 'category', 'currency_name': 'category'})\n",
    "    df = df.astype({'date': 'datetime64[ns]'})\n",
    "    return df\n",
    "\n",
    "\n",
    "df = clean_data(df)\n",
    "\n"
   ]
  },
  {
   "cell_type": "code",
   "execution_count": 46,
   "metadata": {},
   "outputs": [
    {
     "name": "stdout",
     "output_type": "stream",
     "text": [
      "==================================================\n",
      "DataFrame Description:\n",
      "       exchange_rate                           date\n",
      "count      402286.00                         402286\n",
      "mean         6963.82  2019-11-10 10:09:53.380828672\n",
      "min             0.00            2004-08-30 00:00:00\n",
      "25%             2.59            2017-03-07 00:00:00\n",
      "50%            17.48            2020-03-10 00:00:00\n",
      "75%           156.47            2023-03-22 00:00:00\n",
      "max       4881841.00            2025-02-13 00:00:00\n",
      "std        143639.65                            NaN\n",
      "==================================================\n"
     ]
    }
   ],
   "source": [
    "from EDA_src.data_summary import describe_dataframe\n",
    "describe_dataframe(df)\n",
    "\n"
   ]
  },
  {
   "cell_type": "code",
   "execution_count": 47,
   "metadata": {},
   "outputs": [
    {
     "data": {
      "image/png": "[encoded data removed]",
      "text/plain": [
       "<Figure size 1200x800 with 1 Axes>"
      ]
     },
     "metadata": {},
     "output_type": "display_data"
    }
   ],
   "source": [
    "from EDA_src.outliers_check import subplot_boxplot\n",
    "\n",
    "subplot_boxplot(df)"
   ]
  },
  {
   "cell_type": "code",
   "execution_count": 48,
   "metadata": {},
   "outputs": [
    {
     "data": {
      "image/png": "[encoded data removed]",
      "text/plain": [
       "<Figure size 1500x1000 with 1 Axes>"
      ]
     },
     "metadata": {},
     "output_type": "display_data"
    }
   ],
   "source": [
    "from EDA_src.data_distribution import plot_histograms\n",
    "\n",
    "plot_histograms(df)"
   ]
  },
  {
   "cell_type": "code",
   "execution_count": 50,
   "metadata": {},
   "outputs": [
    {
     "data": {
      "application/vnd.microsoft.datawrangler.viewer.v0+json": {
       "columns": [
        {
         "name": "index",
         "rawType": "object",
         "type": "string"
        },
        {
         "name": "exchange_rate",
         "rawType": "float64",
         "type": "float"
        },
        {
         "name": "date",
         "rawType": "object",
         "type": "unknown"
        }
       ],
       "conversionMethod": "pd.DataFrame",
       "ref": "f0dcfc93-d5d4-421f-8625-700cce8b4185",
       "rows": [
        [
         "count",
         "402286.0",
         "402286"
        ],
        [
         "mean",
         "6963.819619058896",
         "2019-11-10 10:09:53.380828672"
        ],
        [
         "min",
         "9.731156e-06",
         "2004-08-30 00:00:00"
        ],
        [
         "1%",
         "0.039561549999999994",
         "2007-02-26 00:00:00"
        ],
        [
         "5%",
         "0.8402",
         "2014-03-13 00:00:00"
        ],
        [
         "10%",
         "1.1042",
         "2015-05-27 00:00:00"
        ],
        [
         "25%",
         "2.5944249999999998",
         "2017-03-07 00:00:00"
        ],
        [
         "50%",
         "17.478",
         "2020-03-10 00:00:00"
        ],
        [
         "75%",
         "156.47250000000003",
         "2023-03-22 00:00:00"
        ],
        [
         "90%",
         "2516.2",
         "2024-06-23 00:00:00"
        ],
        [
         "95%",
         "8028.29",
         "2024-10-18 00:00:00"
        ],
        [
         "99%",
         "32264.820000000156",
         "2025-01-21 00:00:00"
        ],
        [
         "max",
         "4881841.0",
         "2025-02-13 00:00:00"
        ],
        [
         "std",
         "143639.64714189208",
         null
        ]
       ],
       "shape": {
        "columns": 2,
        "rows": 14
       }
      },
      "text/html": [
       "<div>\n",
       "<style scoped>\n",
       "    .dataframe tbody tr th:only-of-type {\n",
       "        vertical-align: middle;\n",
       "    }\n",
       "\n",
       "    .dataframe tbody tr th {\n",
       "        vertical-align: top;\n",
       "    }\n",
       "\n",
       "    .dataframe thead th {\n",
       "        text-align: right;\n",
       "    }\n",
       "</style>\n",
       "<table border=\"1\" class=\"dataframe\">\n",
       "  <thead>\n",
       "    <tr style=\"text-align: right;\">\n",
       "      <th></th>\n",
       "      <th>exchange_rate</th>\n",
       "      <th>date</th>\n",
       "    </tr>\n",
       "  </thead>\n",
       "  <tbody>\n",
       "    <tr>\n",
       "      <th>count</th>\n",
       "      <td>402286.00</td>\n",
       "      <td>402286</td>\n",
       "    </tr>\n",
       "    <tr>\n",
       "      <th>mean</th>\n",
       "      <td>6963.82</td>\n",
       "      <td>2019-11-10 10:09:53.380828672</td>\n",
       "    </tr>\n",
       "    <tr>\n",
       "      <th>min</th>\n",
       "      <td>0.00</td>\n",
       "      <td>2004-08-30 00:00:00</td>\n",
       "    </tr>\n",
       "    <tr>\n",
       "      <th>1%</th>\n",
       "      <td>0.04</td>\n",
       "      <td>2007-02-26 00:00:00</td>\n",
       "    </tr>\n",
       "    <tr>\n",
       "      <th>5%</th>\n",
       "      <td>0.84</td>\n",
       "      <td>2014-03-13 00:00:00</td>\n",
       "    </tr>\n",
       "    <tr>\n",
       "      <th>10%</th>\n",
       "      <td>1.10</td>\n",
       "      <td>2015-05-27 00:00:00</td>\n",
       "    </tr>\n",
       "    <tr>\n",
       "      <th>25%</th>\n",
       "      <td>2.59</td>\n",
       "      <td>2017-03-07 00:00:00</td>\n",
       "    </tr>\n",
       "    <tr>\n",
       "      <th>50%</th>\n",
       "      <td>17.48</td>\n",
       "      <td>2020-03-10 00:00:00</td>\n",
       "    </tr>\n",
       "    <tr>\n",
       "      <th>75%</th>\n",
       "      <td>156.47</td>\n",
       "      <td>2023-03-22 00:00:00</td>\n",
       "    </tr>\n",
       "    <tr>\n",
       "      <th>90%</th>\n",
       "      <td>2516.20</td>\n",
       "      <td>2024-06-23 00:00:00</td>\n",
       "    </tr>\n",
       "    <tr>\n",
       "      <th>95%</th>\n",
       "      <td>8028.29</td>\n",
       "      <td>2024-10-18 00:00:00</td>\n",
       "    </tr>\n",
       "    <tr>\n",
       "      <th>99%</th>\n",
       "      <td>32264.82</td>\n",
       "      <td>2025-01-21 00:00:00</td>\n",
       "    </tr>\n",
       "    <tr>\n",
       "      <th>max</th>\n",
       "      <td>4881841.00</td>\n",
       "      <td>2025-02-13 00:00:00</td>\n",
       "    </tr>\n",
       "    <tr>\n",
       "      <th>std</th>\n",
       "      <td>143639.65</td>\n",
       "      <td>NaN</td>\n",
       "    </tr>\n",
       "  </tbody>\n",
       "</table>\n",
       "</div>"
      ],
      "text/plain": [
       "       exchange_rate                           date\n",
       "count      402286.00                         402286\n",
       "mean         6963.82  2019-11-10 10:09:53.380828672\n",
       "min             0.00            2004-08-30 00:00:00\n",
       "1%              0.04            2007-02-26 00:00:00\n",
       "5%              0.84            2014-03-13 00:00:00\n",
       "10%             1.10            2015-05-27 00:00:00\n",
       "25%             2.59            2017-03-07 00:00:00\n",
       "50%            17.48            2020-03-10 00:00:00\n",
       "75%           156.47            2023-03-22 00:00:00\n",
       "90%          2516.20            2024-06-23 00:00:00\n",
       "95%          8028.29            2024-10-18 00:00:00\n",
       "99%         32264.82            2025-01-21 00:00:00\n",
       "max       4881841.00            2025-02-13 00:00:00\n",
       "std        143639.65                            NaN"
      ]
     },
     "execution_count": 50,
     "metadata": {},
     "output_type": "execute_result"
    }
   ],
   "source": [
    "# describe dataset is different percentiles\n",
    "\n",
    "df.describe(percentiles=[.01, .05, .1, .25, .5, .75, .9, .95, .99])"
   ]
  },
  {
   "cell_type": "code",
   "execution_count": 51,
   "metadata": {},
   "outputs": [
    {
     "data": {
      "application/vnd.microsoft.datawrangler.viewer.v0+json": {
       "columns": [
        {
         "name": "index",
         "rawType": "int64",
         "type": "integer"
        },
        {
         "name": "currency",
         "rawType": "category",
         "type": "unknown"
        },
        {
         "name": "base_currency",
         "rawType": "category",
         "type": "unknown"
        },
        {
         "name": "currency_name",
         "rawType": "category",
         "type": "unknown"
        },
        {
         "name": "exchange_rate",
         "rawType": "float64",
         "type": "float"
        },
        {
         "name": "date",
         "rawType": "datetime64[ns]",
         "type": "datetime"
        }
       ],
       "conversionMethod": "pd.DataFrame",
       "ref": "333c0d1f-ea4f-402a-86ff-14609527ac26",
       "rows": [
        [
         "0",
         "ZWL",
         "EUR",
         "Zimbabwean Dollar",
         "335.685477",
         "2025-02-13 00:00:00"
        ],
        [
         "1",
         "GHS",
         "EUR",
         "Ghanaian Cedi",
         "16.077879",
         "2025-02-13 00:00:00"
        ],
        [
         "2",
         "HRK",
         "EUR",
         "Croatian Kuna",
         "7.53629",
         "2025-02-13 00:00:00"
        ],
        [
         "3",
         "HNL",
         "EUR",
         "Honduran Lempira",
         "26.644431",
         "2025-02-13 00:00:00"
        ],
        [
         "4",
         "HKD",
         "EUR",
         "Hong Kong Dollar",
         "8.120492",
         "2025-02-13 00:00:00"
        ],
        [
         "5",
         "GYD",
         "EUR",
         "Guyanaese Dollar",
         "218.936018",
         "2025-02-13 00:00:00"
        ],
        [
         "6",
         "GTQ",
         "EUR",
         "Guatemalan Quetzal",
         "8.063849",
         "2025-02-13 00:00:00"
        ],
        [
         "8",
         "GMD",
         "EUR",
         "Gambian Dalasi",
         "75.153931",
         "2025-02-13 00:00:00"
        ],
        [
         "9",
         "GIP",
         "EUR",
         "Gibraltar Pound",
         "0.837812",
         "2025-02-13 00:00:00"
        ],
        [
         "10",
         "GGP",
         "EUR",
         "Guernsey Pound",
         "0.837812",
         "2025-02-13 00:00:00"
        ],
        [
         "11",
         "DOP",
         "EUR",
         "Dominican Peso",
         "64.498558",
         "2025-02-13 00:00:00"
        ],
        [
         "12",
         "GEL",
         "EUR",
         "Georgian Lari",
         "2.930843",
         "2025-02-13 00:00:00"
        ],
        [
         "13",
         "GBP",
         "EUR",
         "British Pound Sterling",
         "0.833992",
         "2025-02-13 00:00:00"
        ],
        [
         "14",
         "FKP",
         "EUR",
         "Falkland Islands Pound",
         "0.837812",
         "2025-02-13 00:00:00"
        ],
        [
         "15",
         "FJD",
         "EUR",
         "Fijian Dollar",
         "2.412716",
         "2025-02-13 00:00:00"
        ],
        [
         "16",
         "EUR",
         "EUR",
         "Euro",
         "1.0",
         "2025-02-13 00:00:00"
        ],
        [
         "17",
         "ETB",
         "EUR",
         "Ethiopian Birr",
         "133.570897",
         "2025-02-13 00:00:00"
        ],
        [
         "18",
         "ERN",
         "EUR",
         "Eritrean Nakfa",
         "15.637542",
         "2025-02-13 00:00:00"
        ],
        [
         "19",
         "EGP",
         "EUR",
         "Egyptian Pound",
         "52.816002",
         "2025-02-13 00:00:00"
        ],
        [
         "20",
         "HTG",
         "EUR",
         "Haitian Gourde",
         "137.002794",
         "2025-02-13 00:00:00"
        ],
        [
         "23",
         "ILS",
         "EUR",
         "Israeli New Sheqel",
         "3.716929",
         "2025-02-13 00:00:00"
        ],
        [
         "24",
         "KYD",
         "EUR",
         "Cayman Islands Dollar",
         "0.862113",
         "2025-02-13 00:00:00"
        ],
        [
         "25",
         "KWD",
         "EUR",
         "Kuwaiti Dinar",
         "0.322122",
         "2025-02-13 00:00:00"
        ],
        [
         "30",
         "KGS",
         "EUR",
         "Kyrgystani Som",
         "91.395392",
         "2025-02-13 00:00:00"
        ],
        [
         "31",
         "KES",
         "EUR",
         "Kenyan Shilling",
         "134.532918",
         "2025-02-13 00:00:00"
        ],
        [
         "32",
         "JPY",
         "EUR",
         "Japanese Yen",
         "160.46047",
         "2025-02-13 00:00:00"
        ],
        [
         "33",
         "JOD",
         "EUR",
         "Jordanian Dinar",
         "0.739157",
         "2025-02-13 00:00:00"
        ],
        [
         "34",
         "JMD",
         "EUR",
         "Jamaican Dollar",
         "165.230243",
         "2025-02-13 00:00:00"
        ],
        [
         "35",
         "JEP",
         "EUR",
         "Jersey Pound",
         "0.837812",
         "2025-02-13 00:00:00"
        ],
        [
         "36",
         "ISK",
         "EUR",
         "Icelandic Króna",
         "147.080417",
         "2025-02-13 00:00:00"
        ],
        [
         "39",
         "INR",
         "EUR",
         "Indian Rupee",
         "90.566123",
         "2025-02-13 00:00:00"
        ],
        [
         "40",
         "IMP",
         "EUR",
         "Manx pound",
         "0.837812",
         "2025-02-13 00:00:00"
        ],
        [
         "41",
         "DZD",
         "EUR",
         "Algerian Dinar",
         "140.947311",
         "2025-02-13 00:00:00"
        ],
        [
         "42",
         "DKK",
         "EUR",
         "Danish Krone",
         "7.458659",
         "2025-02-13 00:00:00"
        ],
        [
         "44",
         "BAM",
         "EUR",
         "Bosnia-Herzegovina Convertible Mark",
         "1.96045",
         "2025-02-13 00:00:00"
        ],
        [
         "45",
         "BOB",
         "EUR",
         "Bolivian Boliviano",
         "7.186045",
         "2025-02-13 00:00:00"
        ],
        [
         "46",
         "BND",
         "EUR",
         "Brunei Dollar",
         "1.407594",
         "2025-02-13 00:00:00"
        ],
        [
         "47",
         "BMD",
         "EUR",
         "Bermudan Dollar",
         "1.042503",
         "2025-02-13 00:00:00"
        ],
        [
         "49",
         "BHD",
         "EUR",
         "Bahraini Dinar",
         "0.392926",
         "2025-02-13 00:00:00"
        ],
        [
         "50",
         "BGN",
         "EUR",
         "Bulgarian Lev",
         "1.957498",
         "2025-02-13 00:00:00"
        ],
        [
         "51",
         "BDT",
         "EUR",
         "Bangladeshi Taka",
         "126.359723",
         "2025-02-13 00:00:00"
        ],
        [
         "52",
         "BBD",
         "EUR",
         "Barbadian Dollar",
         "2.099911",
         "2025-02-13 00:00:00"
        ],
        [
         "53",
         "AZN",
         "EUR",
         "Azerbaijani Manat",
         "1.773489",
         "2025-02-13 00:00:00"
        ],
        [
         "54",
         "DJF",
         "EUR",
         "Djiboutian Franc",
         "185.20018",
         "2025-02-13 00:00:00"
        ],
        [
         "55",
         "AWG",
         "EUR",
         "Aruban Florin",
         "1.876505",
         "2025-02-13 00:00:00"
        ],
        [
         "56",
         "AUD",
         "EUR",
         "Australian Dollar",
         "1.662684",
         "2025-02-13 00:00:00"
        ],
        [
         "59",
         "ANG",
         "EUR",
         "Netherlands Antillean Guilder",
         "1.874427",
         "2025-02-13 00:00:00"
        ],
        [
         "61",
         "ALL",
         "EUR",
         "Albanian Lek",
         "99.155671",
         "2025-02-13 00:00:00"
        ],
        [
         "62",
         "AFN",
         "EUR",
         "Afghan Afghani",
         "76.487664",
         "2025-02-13 00:00:00"
        ],
        [
         "63",
         "BRL",
         "EUR",
         "Brazilian Real",
         "6.009402",
         "2025-02-13 00:00:00"
        ]
       ],
       "shape": {
        "columns": 5,
        "rows": 321829
       }
      },
      "text/html": [
       "<div>\n",
       "<style scoped>\n",
       "    .dataframe tbody tr th:only-of-type {\n",
       "        vertical-align: middle;\n",
       "    }\n",
       "\n",
       "    .dataframe tbody tr th {\n",
       "        vertical-align: top;\n",
       "    }\n",
       "\n",
       "    .dataframe thead th {\n",
       "        text-align: right;\n",
       "    }\n",
       "</style>\n",
       "<table border=\"1\" class=\"dataframe\">\n",
       "  <thead>\n",
       "    <tr style=\"text-align: right;\">\n",
       "      <th></th>\n",
       "      <th>currency</th>\n",
       "      <th>base_currency</th>\n",
       "      <th>currency_name</th>\n",
       "      <th>exchange_rate</th>\n",
       "      <th>date</th>\n",
       "    </tr>\n",
       "  </thead>\n",
       "  <tbody>\n",
       "    <tr>\n",
       "      <th>0</th>\n",
       "      <td>ZWL</td>\n",
       "      <td>EUR</td>\n",
       "      <td>Zimbabwean Dollar</td>\n",
       "      <td>335.69</td>\n",
       "      <td>2025-02-13</td>\n",
       "    </tr>\n",
       "    <tr>\n",
       "      <th>1</th>\n",
       "      <td>GHS</td>\n",
       "      <td>EUR</td>\n",
       "      <td>Ghanaian Cedi</td>\n",
       "      <td>16.08</td>\n",
       "      <td>2025-02-13</td>\n",
       "    </tr>\n",
       "    <tr>\n",
       "      <th>2</th>\n",
       "      <td>HRK</td>\n",
       "      <td>EUR</td>\n",
       "      <td>Croatian Kuna</td>\n",
       "      <td>7.54</td>\n",
       "      <td>2025-02-13</td>\n",
       "    </tr>\n",
       "    <tr>\n",
       "      <th>3</th>\n",
       "      <td>HNL</td>\n",
       "      <td>EUR</td>\n",
       "      <td>Honduran Lempira</td>\n",
       "      <td>26.64</td>\n",
       "      <td>2025-02-13</td>\n",
       "    </tr>\n",
       "    <tr>\n",
       "      <th>4</th>\n",
       "      <td>HKD</td>\n",
       "      <td>EUR</td>\n",
       "      <td>Hong Kong Dollar</td>\n",
       "      <td>8.12</td>\n",
       "      <td>2025-02-13</td>\n",
       "    </tr>\n",
       "    <tr>\n",
       "      <th>...</th>\n",
       "      <td>...</td>\n",
       "      <td>...</td>\n",
       "      <td>...</td>\n",
       "      <td>...</td>\n",
       "      <td>...</td>\n",
       "    </tr>\n",
       "    <tr>\n",
       "      <th>402281</th>\n",
       "      <td>JPY</td>\n",
       "      <td>EUR</td>\n",
       "      <td>Japanese Yen</td>\n",
       "      <td>133.35</td>\n",
       "      <td>2004-09-01</td>\n",
       "    </tr>\n",
       "    <tr>\n",
       "      <th>402282</th>\n",
       "      <td>CAD</td>\n",
       "      <td>EUR</td>\n",
       "      <td>Canadian Dollar</td>\n",
       "      <td>1.60</td>\n",
       "      <td>2004-08-31</td>\n",
       "    </tr>\n",
       "    <tr>\n",
       "      <th>402283</th>\n",
       "      <td>JPY</td>\n",
       "      <td>EUR</td>\n",
       "      <td>Japanese Yen</td>\n",
       "      <td>132.85</td>\n",
       "      <td>2004-08-31</td>\n",
       "    </tr>\n",
       "    <tr>\n",
       "      <th>402284</th>\n",
       "      <td>AUD</td>\n",
       "      <td>EUR</td>\n",
       "      <td>Australian Dollar</td>\n",
       "      <td>1.73</td>\n",
       "      <td>2004-08-31</td>\n",
       "    </tr>\n",
       "    <tr>\n",
       "      <th>402285</th>\n",
       "      <td>AUD</td>\n",
       "      <td>EUR</td>\n",
       "      <td>Australian Dollar</td>\n",
       "      <td>1.72</td>\n",
       "      <td>2004-08-30</td>\n",
       "    </tr>\n",
       "  </tbody>\n",
       "</table>\n",
       "<p>321829 rows × 5 columns</p>\n",
       "</div>"
      ],
      "text/plain": [
       "       currency base_currency      currency_name  exchange_rate       date\n",
       "0           ZWL           EUR  Zimbabwean Dollar         335.69 2025-02-13\n",
       "1           GHS           EUR      Ghanaian Cedi          16.08 2025-02-13\n",
       "2           HRK           EUR      Croatian Kuna           7.54 2025-02-13\n",
       "3           HNL           EUR   Honduran Lempira          26.64 2025-02-13\n",
       "4           HKD           EUR   Hong Kong Dollar           8.12 2025-02-13\n",
       "...         ...           ...                ...            ...        ...\n",
       "402281      JPY           EUR       Japanese Yen         133.35 2004-09-01\n",
       "402282      CAD           EUR    Canadian Dollar           1.60 2004-08-31\n",
       "402283      JPY           EUR       Japanese Yen         132.85 2004-08-31\n",
       "402284      AUD           EUR  Australian Dollar           1.73 2004-08-31\n",
       "402285      AUD           EUR  Australian Dollar           1.72 2004-08-30\n",
       "\n",
       "[321829 rows x 5 columns]"
      ]
     },
     "execution_count": 51,
     "metadata": {},
     "output_type": "execute_result"
    }
   ],
   "source": [
    "nth_percentile = 0.80\n",
    "df_filtered = df[df['exchange_rate'] <= df['exchange_rate'].quantile(nth_percentile)]\n",
    "df_filtered"
   ]
  },
  {
   "cell_type": "code",
   "execution_count": 52,
   "metadata": {},
   "outputs": [
    {
     "data": {
      "image/png": "[encoded data removed]",
      "text/plain": [
       "<Figure size 1500x1000 with 1 Axes>"
      ]
     },
     "metadata": {},
     "output_type": "display_data"
    }
   ],
   "source": [
    "plot_histograms(df_filtered)"
   ]
  },
  {
   "cell_type": "code",
   "execution_count": 53,
   "metadata": {},
   "outputs": [
    {
     "data": {
      "application/vnd.microsoft.datawrangler.viewer.v0+json": {
       "columns": [
        {
         "name": "index",
         "rawType": "int64",
         "type": "integer"
        },
        {
         "name": "currency",
         "rawType": "category",
         "type": "unknown"
        },
        {
         "name": "base_currency",
         "rawType": "category",
         "type": "unknown"
        },
        {
         "name": "currency_name",
         "rawType": "category",
         "type": "unknown"
        },
        {
         "name": "exchange_rate",
         "rawType": "float64",
         "type": "float"
        },
        {
         "name": "date",
         "rawType": "datetime64[ns]",
         "type": "datetime"
        },
        {
         "name": "year",
         "rawType": "int32",
         "type": "integer"
        },
        {
         "name": "month",
         "rawType": "int32",
         "type": "integer"
        },
        {
         "name": "day",
         "rawType": "int32",
         "type": "integer"
        },
        {
         "name": "quarter",
         "rawType": "int32",
         "type": "integer"
        },
        {
         "name": "day_of_week",
         "rawType": "int32",
         "type": "integer"
        },
        {
         "name": "is_weekend",
         "rawType": "bool",
         "type": "boolean"
        }
       ],
       "conversionMethod": "pd.DataFrame",
       "ref": "e8fa3f10-848a-42c2-9e4c-adaa6a5b8195",
       "rows": [
        [
         "0",
         "ZWL",
         "EUR",
         "Zimbabwean Dollar",
         "335.685477",
         "2025-02-13 00:00:00",
         "2025",
         "2",
         "13",
         "1",
         "3",
         "False"
        ],
        [
         "1",
         "GHS",
         "EUR",
         "Ghanaian Cedi",
         "16.077879",
         "2025-02-13 00:00:00",
         "2025",
         "2",
         "13",
         "1",
         "3",
         "False"
        ],
        [
         "2",
         "HRK",
         "EUR",
         "Croatian Kuna",
         "7.53629",
         "2025-02-13 00:00:00",
         "2025",
         "2",
         "13",
         "1",
         "3",
         "False"
        ],
        [
         "3",
         "HNL",
         "EUR",
         "Honduran Lempira",
         "26.644431",
         "2025-02-13 00:00:00",
         "2025",
         "2",
         "13",
         "1",
         "3",
         "False"
        ],
        [
         "4",
         "HKD",
         "EUR",
         "Hong Kong Dollar",
         "8.120492",
         "2025-02-13 00:00:00",
         "2025",
         "2",
         "13",
         "1",
         "3",
         "False"
        ]
       ],
       "shape": {
        "columns": 11,
        "rows": 5
       }
      },
      "text/html": [
       "<div>\n",
       "<style scoped>\n",
       "    .dataframe tbody tr th:only-of-type {\n",
       "        vertical-align: middle;\n",
       "    }\n",
       "\n",
       "    .dataframe tbody tr th {\n",
       "        vertical-align: top;\n",
       "    }\n",
       "\n",
       "    .dataframe thead th {\n",
       "        text-align: right;\n",
       "    }\n",
       "</style>\n",
       "<table border=\"1\" class=\"dataframe\">\n",
       "  <thead>\n",
       "    <tr style=\"text-align: right;\">\n",
       "      <th></th>\n",
       "      <th>currency</th>\n",
       "      <th>base_currency</th>\n",
       "      <th>currency_name</th>\n",
       "      <th>exchange_rate</th>\n",
       "      <th>date</th>\n",
       "      <th>year</th>\n",
       "      <th>month</th>\n",
       "      <th>day</th>\n",
       "      <th>quarter</th>\n",
       "      <th>day_of_week</th>\n",
       "      <th>is_weekend</th>\n",
       "    </tr>\n",
       "  </thead>\n",
       "  <tbody>\n",
       "    <tr>\n",
       "      <th>0</th>\n",
       "      <td>ZWL</td>\n",
       "      <td>EUR</td>\n",
       "      <td>Zimbabwean Dollar</td>\n",
       "      <td>335.69</td>\n",
       "      <td>2025-02-13</td>\n",
       "      <td>2025</td>\n",
       "      <td>2</td>\n",
       "      <td>13</td>\n",
       "      <td>1</td>\n",
       "      <td>3</td>\n",
       "      <td>False</td>\n",
       "    </tr>\n",
       "    <tr>\n",
       "      <th>1</th>\n",
       "      <td>GHS</td>\n",
       "      <td>EUR</td>\n",
       "      <td>Ghanaian Cedi</td>\n",
       "      <td>16.08</td>\n",
       "      <td>2025-02-13</td>\n",
       "      <td>2025</td>\n",
       "      <td>2</td>\n",
       "      <td>13</td>\n",
       "      <td>1</td>\n",
       "      <td>3</td>\n",
       "      <td>False</td>\n",
       "    </tr>\n",
       "    <tr>\n",
       "      <th>2</th>\n",
       "      <td>HRK</td>\n",
       "      <td>EUR</td>\n",
       "      <td>Croatian Kuna</td>\n",
       "      <td>7.54</td>\n",
       "      <td>2025-02-13</td>\n",
       "      <td>2025</td>\n",
       "      <td>2</td>\n",
       "      <td>13</td>\n",
       "      <td>1</td>\n",
       "      <td>3</td>\n",
       "      <td>False</td>\n",
       "    </tr>\n",
       "    <tr>\n",
       "      <th>3</th>\n",
       "      <td>HNL</td>\n",
       "      <td>EUR</td>\n",
       "      <td>Honduran Lempira</td>\n",
       "      <td>26.64</td>\n",
       "      <td>2025-02-13</td>\n",
       "      <td>2025</td>\n",
       "      <td>2</td>\n",
       "      <td>13</td>\n",
       "      <td>1</td>\n",
       "      <td>3</td>\n",
       "      <td>False</td>\n",
       "    </tr>\n",
       "    <tr>\n",
       "      <th>4</th>\n",
       "      <td>HKD</td>\n",
       "      <td>EUR</td>\n",
       "      <td>Hong Kong Dollar</td>\n",
       "      <td>8.12</td>\n",
       "      <td>2025-02-13</td>\n",
       "      <td>2025</td>\n",
       "      <td>2</td>\n",
       "      <td>13</td>\n",
       "      <td>1</td>\n",
       "      <td>3</td>\n",
       "      <td>False</td>\n",
       "    </tr>\n",
       "  </tbody>\n",
       "</table>\n",
       "</div>"
      ],
      "text/plain": [
       "  currency base_currency      currency_name  exchange_rate       date  year  \\\n",
       "0      ZWL           EUR  Zimbabwean Dollar         335.69 2025-02-13  2025   \n",
       "1      GHS           EUR      Ghanaian Cedi          16.08 2025-02-13  2025   \n",
       "2      HRK           EUR      Croatian Kuna           7.54 2025-02-13  2025   \n",
       "3      HNL           EUR   Honduran Lempira          26.64 2025-02-13  2025   \n",
       "4      HKD           EUR   Hong Kong Dollar           8.12 2025-02-13  2025   \n",
       "\n",
       "   month  day  quarter  day_of_week  is_weekend  \n",
       "0      2   13        1            3       False  \n",
       "1      2   13        1            3       False  \n",
       "2      2   13        1            3       False  \n",
       "3      2   13        1            3       False  \n",
       "4      2   13        1            3       False  "
      ]
     },
     "execution_count": 53,
     "metadata": {},
     "output_type": "execute_result"
    }
   ],
   "source": [
    "from preprocessing_steps.feature_extraction import temporal_features\n",
    "\n",
    "temporal_features(df_filtered, 'date')\n",
    "df_filtered.head()"
   ]
  },
  {
   "cell_type": "code",
   "execution_count": 54,
   "metadata": {},
   "outputs": [
    {
     "data": {
      "application/vnd.microsoft.datawrangler.viewer.v0+json": {
       "columns": [
        {
         "name": "index",
         "rawType": "object",
         "type": "string"
        },
        {
         "name": "currency",
         "rawType": "object",
         "type": "unknown"
        },
        {
         "name": "base_currency",
         "rawType": "object",
         "type": "unknown"
        },
        {
         "name": "currency_name",
         "rawType": "object",
         "type": "unknown"
        }
       ],
       "conversionMethod": "pd.DataFrame",
       "ref": "9be460ab-baa3-4d42-8332-9853c50d6019",
       "rows": [
        [
         "count",
         "321829",
         "321829",
         "321078"
        ],
        [
         "unique",
         "137",
         "1",
         "135"
        ],
        [
         "top",
         "AUD",
         "EUR",
         "Australian Dollar"
        ],
        [
         "freq",
         "5473",
         "321829",
         "5473"
        ]
       ],
       "shape": {
        "columns": 3,
        "rows": 4
       }
      },
      "text/html": [
       "<div>\n",
       "<style scoped>\n",
       "    .dataframe tbody tr th:only-of-type {\n",
       "        vertical-align: middle;\n",
       "    }\n",
       "\n",
       "    .dataframe tbody tr th {\n",
       "        vertical-align: top;\n",
       "    }\n",
       "\n",
       "    .dataframe thead th {\n",
       "        text-align: right;\n",
       "    }\n",
       "</style>\n",
       "<table border=\"1\" class=\"dataframe\">\n",
       "  <thead>\n",
       "    <tr style=\"text-align: right;\">\n",
       "      <th></th>\n",
       "      <th>currency</th>\n",
       "      <th>base_currency</th>\n",
       "      <th>currency_name</th>\n",
       "    </tr>\n",
       "  </thead>\n",
       "  <tbody>\n",
       "    <tr>\n",
       "      <th>count</th>\n",
       "      <td>321829</td>\n",
       "      <td>321829</td>\n",
       "      <td>321078</td>\n",
       "    </tr>\n",
       "    <tr>\n",
       "      <th>unique</th>\n",
       "      <td>137</td>\n",
       "      <td>1</td>\n",
       "      <td>135</td>\n",
       "    </tr>\n",
       "    <tr>\n",
       "      <th>top</th>\n",
       "      <td>AUD</td>\n",
       "      <td>EUR</td>\n",
       "      <td>Australian Dollar</td>\n",
       "    </tr>\n",
       "    <tr>\n",
       "      <th>freq</th>\n",
       "      <td>5473</td>\n",
       "      <td>321829</td>\n",
       "      <td>5473</td>\n",
       "    </tr>\n",
       "  </tbody>\n",
       "</table>\n",
       "</div>"
      ],
      "text/plain": [
       "       currency base_currency      currency_name\n",
       "count    321829        321829             321078\n",
       "unique      137             1                135\n",
       "top         AUD           EUR  Australian Dollar\n",
       "freq       5473        321829               5473"
      ]
     },
     "execution_count": 54,
     "metadata": {},
     "output_type": "execute_result"
    }
   ],
   "source": [
    "df_filtered.describe(include=['category'])\n",
    "# df_filtered.describe(include=['number'])"
   ]
  },
  {
   "cell_type": "code",
   "execution_count": 55,
   "metadata": {},
   "outputs": [
    {
     "data": {
      "image/png": "[encoded data removed]",
      "text/plain": [
       "<Figure size 1000x600 with 1 Axes>"
      ]
     },
     "metadata": {},
     "output_type": "display_data"
    }
   ],
   "source": [
    "import matplotlib.pyplot as plt\n",
    "plt.figure(figsize=(10, 6))\n",
    "plt.boxplot([df_filtered[df_filtered['is_weekend'] == False]['exchange_rate'],\n",
    "             df_filtered[df_filtered['is_weekend'] == True]['exchange_rate']],\n",
    "            labels=['Weekday', 'Weekend'])\n",
    "\n",
    "plt.title('Exchange Rate by Weekend')\n",
    "plt.xlabel('Is Weekend')\n",
    "plt.ylabel('Exchange Rate')\n",
    "\n",
    "# Show the plot\n",
    "plt.show()"
   ]
  },
  {
   "cell_type": "code",
   "execution_count": 56,
   "metadata": {},
   "outputs": [
    {
     "name": "stdout",
     "output_type": "stream",
     "text": [
      "      exchange_rate       \n",
      "               mean median\n",
      "month                     \n",
      "1             39.36   8.51\n",
      "2             38.83   8.46\n",
      "3             39.10   8.52\n",
      "4             39.36   8.52\n",
      "5             39.35   8.54\n",
      "6             39.56   8.61\n",
      "7             39.64   8.57\n",
      "8             39.43   8.62\n",
      "9             39.78   8.68\n",
      "10            39.31   8.59\n",
      "11            39.27   8.48\n",
      "12            39.35   8.50\n",
      "            exchange_rate       \n",
      "                     mean median\n",
      "day_of_week                     \n",
      "0                   39.22   8.54\n",
      "1                   39.14   8.54\n",
      "2                   39.20   8.56\n",
      "3                   39.15   8.55\n",
      "4                   39.90   8.32\n",
      "5                   43.05   8.61\n",
      "6                   37.59  10.01\n",
      "           exchange_rate       \n",
      "                    mean median\n",
      "is_weekend                     \n",
      "False              39.32   8.50\n",
      "True               40.03   9.48\n",
      "        exchange_rate       \n",
      "                 mean median\n",
      "quarter                     \n",
      "1               39.11   8.50\n",
      "2               39.42   8.56\n",
      "3               39.61   8.63\n",
      "4               39.31   8.51\n"
     ]
    }
   ],
   "source": [
    "\n",
    "print(df_filtered.groupby('month').agg({'exchange_rate': ['mean', 'median']}))\n",
    "print(df_filtered.groupby('day_of_week').agg({'exchange_rate': ['mean', 'median']}))\n",
    "print(df_filtered.groupby('is_weekend').agg({'exchange_rate': ['mean', 'median']}))\n",
    "\n",
    "print(df_filtered.groupby('quarter').agg({'exchange_rate': ['mean', 'median']}))\n"
   ]
  },
  {
   "cell_type": "code",
   "execution_count": 57,
   "metadata": {},
   "outputs": [
    {
     "data": {
      "application/vnd.microsoft.datawrangler.viewer.v0+json": {
       "columns": [
        {
         "name": "index",
         "rawType": "int64",
         "type": "integer"
        },
        {
         "name": "currency",
         "rawType": "category",
         "type": "unknown"
        },
        {
         "name": "base_currency",
         "rawType": "category",
         "type": "unknown"
        },
        {
         "name": "currency_name",
         "rawType": "category",
         "type": "unknown"
        },
        {
         "name": "exchange_rate",
         "rawType": "float64",
         "type": "float"
        },
        {
         "name": "date",
         "rawType": "datetime64[ns]",
         "type": "datetime"
        },
        {
         "name": "year",
         "rawType": "int32",
         "type": "integer"
        },
        {
         "name": "month",
         "rawType": "int32",
         "type": "integer"
        },
        {
         "name": "day",
         "rawType": "int32",
         "type": "integer"
        },
        {
         "name": "quarter",
         "rawType": "int32",
         "type": "integer"
        },
        {
         "name": "day_of_week",
         "rawType": "int32",
         "type": "integer"
        },
        {
         "name": "is_weekend",
         "rawType": "bool",
         "type": "boolean"
        }
       ],
       "conversionMethod": "pd.DataFrame",
       "ref": "447d8d9c-5934-40ad-837a-f055a3ef4c4a",
       "rows": [
        [
         "0",
         "ZWL",
         "EUR",
         "Zimbabwean Dollar",
         "335.685477",
         "2025-02-13 00:00:00",
         "2025",
         "2",
         "13",
         "1",
         "3",
         "False"
        ],
        [
         "1",
         "GHS",
         "EUR",
         "Ghanaian Cedi",
         "16.077879",
         "2025-02-13 00:00:00",
         "2025",
         "2",
         "13",
         "1",
         "3",
         "False"
        ],
        [
         "2",
         "HRK",
         "EUR",
         "Croatian Kuna",
         "7.53629",
         "2025-02-13 00:00:00",
         "2025",
         "2",
         "13",
         "1",
         "3",
         "False"
        ],
        [
         "3",
         "HNL",
         "EUR",
         "Honduran Lempira",
         "26.644431",
         "2025-02-13 00:00:00",
         "2025",
         "2",
         "13",
         "1",
         "3",
         "False"
        ],
        [
         "4",
         "HKD",
         "EUR",
         "Hong Kong Dollar",
         "8.120492",
         "2025-02-13 00:00:00",
         "2025",
         "2",
         "13",
         "1",
         "3",
         "False"
        ]
       ],
       "shape": {
        "columns": 11,
        "rows": 5
       }
      },
      "text/html": [
       "<div>\n",
       "<style scoped>\n",
       "    .dataframe tbody tr th:only-of-type {\n",
       "        vertical-align: middle;\n",
       "    }\n",
       "\n",
       "    .dataframe tbody tr th {\n",
       "        vertical-align: top;\n",
       "    }\n",
       "\n",
       "    .dataframe thead th {\n",
       "        text-align: right;\n",
       "    }\n",
       "</style>\n",
       "<table border=\"1\" class=\"dataframe\">\n",
       "  <thead>\n",
       "    <tr style=\"text-align: right;\">\n",
       "      <th></th>\n",
       "      <th>currency</th>\n",
       "      <th>base_currency</th>\n",
       "      <th>currency_name</th>\n",
       "      <th>exchange_rate</th>\n",
       "      <th>date</th>\n",
       "      <th>year</th>\n",
       "      <th>month</th>\n",
       "      <th>day</th>\n",
       "      <th>quarter</th>\n",
       "      <th>day_of_week</th>\n",
       "      <th>is_weekend</th>\n",
       "    </tr>\n",
       "  </thead>\n",
       "  <tbody>\n",
       "    <tr>\n",
       "      <th>0</th>\n",
       "      <td>ZWL</td>\n",
       "      <td>EUR</td>\n",
       "      <td>Zimbabwean Dollar</td>\n",
       "      <td>335.69</td>\n",
       "      <td>2025-02-13</td>\n",
       "      <td>2025</td>\n",
       "      <td>2</td>\n",
       "      <td>13</td>\n",
       "      <td>1</td>\n",
       "      <td>3</td>\n",
       "      <td>False</td>\n",
       "    </tr>\n",
       "    <tr>\n",
       "      <th>1</th>\n",
       "      <td>GHS</td>\n",
       "      <td>EUR</td>\n",
       "      <td>Ghanaian Cedi</td>\n",
       "      <td>16.08</td>\n",
       "      <td>2025-02-13</td>\n",
       "      <td>2025</td>\n",
       "      <td>2</td>\n",
       "      <td>13</td>\n",
       "      <td>1</td>\n",
       "      <td>3</td>\n",
       "      <td>False</td>\n",
       "    </tr>\n",
       "    <tr>\n",
       "      <th>2</th>\n",
       "      <td>HRK</td>\n",
       "      <td>EUR</td>\n",
       "      <td>Croatian Kuna</td>\n",
       "      <td>7.54</td>\n",
       "      <td>2025-02-13</td>\n",
       "      <td>2025</td>\n",
       "      <td>2</td>\n",
       "      <td>13</td>\n",
       "      <td>1</td>\n",
       "      <td>3</td>\n",
       "      <td>False</td>\n",
       "    </tr>\n",
       "    <tr>\n",
       "      <th>3</th>\n",
       "      <td>HNL</td>\n",
       "      <td>EUR</td>\n",
       "      <td>Honduran Lempira</td>\n",
       "      <td>26.64</td>\n",
       "      <td>2025-02-13</td>\n",
       "      <td>2025</td>\n",
       "      <td>2</td>\n",
       "      <td>13</td>\n",
       "      <td>1</td>\n",
       "      <td>3</td>\n",
       "      <td>False</td>\n",
       "    </tr>\n",
       "    <tr>\n",
       "      <th>4</th>\n",
       "      <td>HKD</td>\n",
       "      <td>EUR</td>\n",
       "      <td>Hong Kong Dollar</td>\n",
       "      <td>8.12</td>\n",
       "      <td>2025-02-13</td>\n",
       "      <td>2025</td>\n",
       "      <td>2</td>\n",
       "      <td>13</td>\n",
       "      <td>1</td>\n",
       "      <td>3</td>\n",
       "      <td>False</td>\n",
       "    </tr>\n",
       "  </tbody>\n",
       "</table>\n",
       "</div>"
      ],
      "text/plain": [
       "  currency base_currency      currency_name  exchange_rate       date  year  \\\n",
       "0      ZWL           EUR  Zimbabwean Dollar         335.69 2025-02-13  2025   \n",
       "1      GHS           EUR      Ghanaian Cedi          16.08 2025-02-13  2025   \n",
       "2      HRK           EUR      Croatian Kuna           7.54 2025-02-13  2025   \n",
       "3      HNL           EUR   Honduran Lempira          26.64 2025-02-13  2025   \n",
       "4      HKD           EUR   Hong Kong Dollar           8.12 2025-02-13  2025   \n",
       "\n",
       "   month  day  quarter  day_of_week  is_weekend  \n",
       "0      2   13        1            3       False  \n",
       "1      2   13        1            3       False  \n",
       "2      2   13        1            3       False  \n",
       "3      2   13        1            3       False  \n",
       "4      2   13        1            3       False  "
      ]
     },
     "execution_count": 57,
     "metadata": {},
     "output_type": "execute_result"
    }
   ],
   "source": [
    "df_filtered.head()"
   ]
  },
  {
   "cell_type": "code",
   "execution_count": 58,
   "metadata": {},
   "outputs": [
    {
     "data": {
      "application/vnd.microsoft.datawrangler.viewer.v0+json": {
       "columns": [
        {
         "name": "month",
         "rawType": "object",
         "type": "unknown"
        },
        {
         "name": "False",
         "rawType": "int64",
         "type": "integer"
        },
        {
         "name": "True",
         "rawType": "int64",
         "type": "integer"
        },
        {
         "name": "All",
         "rawType": "int64",
         "type": "integer"
        }
       ],
       "conversionMethod": "pd.DataFrame",
       "ref": "55b05230-2ba6-4b2c-a5b1-14ecddf87764",
       "rows": [
        [
         "1",
         "27746",
         "2248",
         "29994"
        ],
        [
         "2",
         "23901",
         "1708",
         "25609"
        ],
        [
         "3",
         "25021",
         "1466",
         "26487"
        ],
        [
         "4",
         "24107",
         "1212",
         "25319"
        ],
        [
         "5",
         "24981",
         "1220",
         "26201"
        ],
        [
         "6",
         "24250",
         "1468",
         "25718"
        ],
        [
         "7",
         "24629",
         "1220",
         "25849"
        ],
        [
         "8",
         "24872",
         "1346",
         "26218"
        ],
        [
         "9",
         "24203",
         "1338",
         "25541"
        ],
        [
         "10",
         "25078",
         "1349",
         "26427"
        ],
        [
         "11",
         "25838",
         "2239",
         "28077"
        ],
        [
         "12",
         "27763",
         "2626",
         "30389"
        ],
        [
         "All",
         "302389",
         "19440",
         "321829"
        ]
       ],
       "shape": {
        "columns": 3,
        "rows": 13
       }
      },
      "text/html": [
       "<div>\n",
       "<style scoped>\n",
       "    .dataframe tbody tr th:only-of-type {\n",
       "        vertical-align: middle;\n",
       "    }\n",
       "\n",
       "    .dataframe tbody tr th {\n",
       "        vertical-align: top;\n",
       "    }\n",
       "\n",
       "    .dataframe thead th {\n",
       "        text-align: right;\n",
       "    }\n",
       "</style>\n",
       "<table border=\"1\" class=\"dataframe\">\n",
       "  <thead>\n",
       "    <tr style=\"text-align: right;\">\n",
       "      <th>is_weekend</th>\n",
       "      <th>False</th>\n",
       "      <th>True</th>\n",
       "      <th>All</th>\n",
       "    </tr>\n",
       "    <tr>\n",
       "      <th>month</th>\n",
       "      <th></th>\n",
       "      <th></th>\n",
       "      <th></th>\n",
       "    </tr>\n",
       "  </thead>\n",
       "  <tbody>\n",
       "    <tr>\n",
       "      <th>1</th>\n",
       "      <td>27746</td>\n",
       "      <td>2248</td>\n",
       "      <td>29994</td>\n",
       "    </tr>\n",
       "    <tr>\n",
       "      <th>2</th>\n",
       "      <td>23901</td>\n",
       "      <td>1708</td>\n",
       "      <td>25609</td>\n",
       "    </tr>\n",
       "    <tr>\n",
       "      <th>3</th>\n",
       "      <td>25021</td>\n",
       "      <td>1466</td>\n",
       "      <td>26487</td>\n",
       "    </tr>\n",
       "    <tr>\n",
       "      <th>4</th>\n",
       "      <td>24107</td>\n",
       "      <td>1212</td>\n",
       "      <td>25319</td>\n",
       "    </tr>\n",
       "    <tr>\n",
       "      <th>5</th>\n",
       "      <td>24981</td>\n",
       "      <td>1220</td>\n",
       "      <td>26201</td>\n",
       "    </tr>\n",
       "    <tr>\n",
       "      <th>6</th>\n",
       "      <td>24250</td>\n",
       "      <td>1468</td>\n",
       "      <td>25718</td>\n",
       "    </tr>\n",
       "    <tr>\n",
       "      <th>7</th>\n",
       "      <td>24629</td>\n",
       "      <td>1220</td>\n",
       "      <td>25849</td>\n",
       "    </tr>\n",
       "    <tr>\n",
       "      <th>8</th>\n",
       "      <td>24872</td>\n",
       "      <td>1346</td>\n",
       "      <td>26218</td>\n",
       "    </tr>\n",
       "    <tr>\n",
       "      <th>9</th>\n",
       "      <td>24203</td>\n",
       "      <td>1338</td>\n",
       "      <td>25541</td>\n",
       "    </tr>\n",
       "    <tr>\n",
       "      <th>10</th>\n",
       "      <td>25078</td>\n",
       "      <td>1349</td>\n",
       "      <td>26427</td>\n",
       "    </tr>\n",
       "    <tr>\n",
       "      <th>11</th>\n",
       "      <td>25838</td>\n",
       "      <td>2239</td>\n",
       "      <td>28077</td>\n",
       "    </tr>\n",
       "    <tr>\n",
       "      <th>12</th>\n",
       "      <td>27763</td>\n",
       "      <td>2626</td>\n",
       "      <td>30389</td>\n",
       "    </tr>\n",
       "    <tr>\n",
       "      <th>All</th>\n",
       "      <td>302389</td>\n",
       "      <td>19440</td>\n",
       "      <td>321829</td>\n",
       "    </tr>\n",
       "  </tbody>\n",
       "</table>\n",
       "</div>"
      ],
      "text/plain": [
       "is_weekend   False   True     All\n",
       "month                            \n",
       "1            27746   2248   29994\n",
       "2            23901   1708   25609\n",
       "3            25021   1466   26487\n",
       "4            24107   1212   25319\n",
       "5            24981   1220   26201\n",
       "6            24250   1468   25718\n",
       "7            24629   1220   25849\n",
       "8            24872   1346   26218\n",
       "9            24203   1338   25541\n",
       "10           25078   1349   26427\n",
       "11           25838   2239   28077\n",
       "12           27763   2626   30389\n",
       "All         302389  19440  321829"
      ]
     },
     "execution_count": 58,
     "metadata": {},
     "output_type": "execute_result"
    }
   ],
   "source": [
    "# create cross tab\n",
    "\n",
    "pd.crosstab(df_filtered['month'], df_filtered['is_weekend'], margins=True)\n"
   ]
  },
  {
   "cell_type": "code",
   "execution_count": null,
   "metadata": {},
   "outputs": [
    {
     "data": {
      "application/vnd.microsoft.datawrangler.viewer.v0+json": {
       "columns": [
        {
         "name": "index",
         "rawType": "int64",
         "type": "integer"
        },
        {
         "name": "currency",
         "rawType": "category",
         "type": "unknown"
        },
        {
         "name": "exchange_rate",
         "rawType": "float64",
         "type": "float"
        },
        {
         "name": "year",
         "rawType": "int32",
         "type": "integer"
        },
        {
         "name": "month",
         "rawType": "int32",
         "type": "integer"
        },
        {
         "name": "day",
         "rawType": "int32",
         "type": "integer"
        },
        {
         "name": "quarter",
         "rawType": "int32",
         "type": "integer"
        },
        {
         "name": "day_of_week",
         "rawType": "int32",
         "type": "integer"
        },
        {
         "name": "is_weekend",
         "rawType": "bool",
         "type": "boolean"
        }
       ],
       "conversionMethod": "pd.DataFrame",
       "ref": "9d042c1d-c6dd-4451-bcf9-bb695fd4c9fc",
       "rows": [
        [
         "0",
         "ZWL",
         "335.685477",
         "2025",
         "2",
         "13",
         "1",
         "3",
         "False"
        ],
        [
         "1",
         "GHS",
         "16.077879",
         "2025",
         "2",
         "13",
         "1",
         "3",
         "False"
        ],
        [
         "2",
         "HRK",
         "7.53629",
         "2025",
         "2",
         "13",
         "1",
         "3",
         "False"
        ],
        [
         "3",
         "HNL",
         "26.644431",
         "2025",
         "2",
         "13",
         "1",
         "3",
         "False"
        ],
        [
         "4",
         "HKD",
         "8.120492",
         "2025",
         "2",
         "13",
         "1",
         "3",
         "False"
        ]
       ],
       "shape": {
        "columns": 8,
        "rows": 5
       }
      },
      "text/html": [
       "<div>\n",
       "<style scoped>\n",
       "    .dataframe tbody tr th:only-of-type {\n",
       "        vertical-align: middle;\n",
       "    }\n",
       "\n",
       "    .dataframe tbody tr th {\n",
       "        vertical-align: top;\n",
       "    }\n",
       "\n",
       "    .dataframe thead th {\n",
       "        text-align: right;\n",
       "    }\n",
       "</style>\n",
       "<table border=\"1\" class=\"dataframe\">\n",
       "  <thead>\n",
       "    <tr style=\"text-align: right;\">\n",
       "      <th></th>\n",
       "      <th>currency</th>\n",
       "      <th>exchange_rate</th>\n",
       "      <th>year</th>\n",
       "      <th>month</th>\n",
       "      <th>day</th>\n",
       "      <th>quarter</th>\n",
       "      <th>day_of_week</th>\n",
       "      <th>is_weekend</th>\n",
       "    </tr>\n",
       "  </thead>\n",
       "  <tbody>\n",
       "    <tr>\n",
       "      <th>0</th>\n",
       "      <td>ZWL</td>\n",
       "      <td>335.69</td>\n",
       "      <td>2025</td>\n",
       "      <td>2</td>\n",
       "      <td>13</td>\n",
       "      <td>1</td>\n",
       "      <td>3</td>\n",
       "      <td>False</td>\n",
       "    </tr>\n",
       "    <tr>\n",
       "      <th>1</th>\n",
       "      <td>GHS</td>\n",
       "      <td>16.08</td>\n",
       "      <td>2025</td>\n",
       "      <td>2</td>\n",
       "      <td>13</td>\n",
       "      <td>1</td>\n",
       "      <td>3</td>\n",
       "      <td>False</td>\n",
       "    </tr>\n",
       "    <tr>\n",
       "      <th>2</th>\n",
       "      <td>HRK</td>\n",
       "      <td>7.54</td>\n",
       "      <td>2025</td>\n",
       "      <td>2</td>\n",
       "      <td>13</td>\n",
       "      <td>1</td>\n",
       "      <td>3</td>\n",
       "      <td>False</td>\n",
       "    </tr>\n",
       "    <tr>\n",
       "      <th>3</th>\n",
       "      <td>HNL</td>\n",
       "      <td>26.64</td>\n",
       "      <td>2025</td>\n",
       "      <td>2</td>\n",
       "      <td>13</td>\n",
       "      <td>1</td>\n",
       "      <td>3</td>\n",
       "      <td>False</td>\n",
       "    </tr>\n",
       "    <tr>\n",
       "      <th>4</th>\n",
       "      <td>HKD</td>\n",
       "      <td>8.12</td>\n",
       "      <td>2025</td>\n",
       "      <td>2</td>\n",
       "      <td>13</td>\n",
       "      <td>1</td>\n",
       "      <td>3</td>\n",
       "      <td>False</td>\n",
       "    </tr>\n",
       "  </tbody>\n",
       "</table>\n",
       "</div>"
      ],
      "text/plain": [
       "  currency  exchange_rate  year  month  day  quarter  day_of_week  is_weekend\n",
       "0      ZWL         335.69  2025      2   13        1            3       False\n",
       "1      GHS          16.08  2025      2   13        1            3       False\n",
       "2      HRK           7.54  2025      2   13        1            3       False\n",
       "3      HNL          26.64  2025      2   13        1            3       False\n",
       "4      HKD           8.12  2025      2   13        1            3       False"
      ]
     },
     "execution_count": 60,
     "metadata": {},
     "output_type": "execute_result"
    }
   ],
   "source": [
    "from preprocessing_steps.remove_columns import del_columns\n",
    "columns_to_delete =['currency_name','date','base_currency']\n",
    "del_columns(df_filtered, columns_to_delete)\n",
    "df_filtered.head()"
   ]
  },
  {
   "cell_type": "code",
   "execution_count": null,
   "metadata": {},
   "outputs": [],
   "source": [
    "from preprocessing_steps.feature_engineering import bool_encoding,binary_encode\n",
    "# df_filtered=hot_encode(df_filtered)\n",
    "df_filtered=binary_encode(df_filtered)\n",
    "df_filtered = bool_encoding(df_filtered)"
   ]
  },
  {
   "cell_type": "code",
   "execution_count": 65,
   "metadata": {},
   "outputs": [],
   "source": [
    "from preprocessing_steps.feature_engineering import feature_scaling\n",
    "df_filtered=feature_scaling(df_filtered)"
   ]
  },
  {
   "cell_type": "code",
   "execution_count": 66,
   "metadata": {},
   "outputs": [
    {
     "data": {
      "application/vnd.microsoft.datawrangler.viewer.v0+json": {
       "columns": [
        {
         "name": "index",
         "rawType": "int64",
         "type": "integer"
        },
        {
         "name": "col_0",
         "rawType": "float64",
         "type": "float"
        },
        {
         "name": "col_1",
         "rawType": "float64",
         "type": "float"
        },
        {
         "name": "col_2",
         "rawType": "float64",
         "type": "float"
        },
        {
         "name": "col_3",
         "rawType": "float64",
         "type": "float"
        },
        {
         "name": "col_4",
         "rawType": "float64",
         "type": "float"
        },
        {
         "name": "col_5",
         "rawType": "float64",
         "type": "float"
        },
        {
         "name": "col_6",
         "rawType": "float64",
         "type": "float"
        },
        {
         "name": "col_7",
         "rawType": "float64",
         "type": "float"
        },
        {
         "name": "col_8",
         "rawType": "float64",
         "type": "float"
        },
        {
         "name": "col_9",
         "rawType": "float64",
         "type": "float"
        },
        {
         "name": "col_10",
         "rawType": "float64",
         "type": "float"
        },
        {
         "name": "col_11",
         "rawType": "float64",
         "type": "float"
        },
        {
         "name": "col_12",
         "rawType": "float64",
         "type": "float"
        },
        {
         "name": "col_13",
         "rawType": "float64",
         "type": "float"
        },
        {
         "name": "col_14",
         "rawType": "float64",
         "type": "float"
        },
        {
         "name": "col_15",
         "rawType": "float64",
         "type": "float"
        },
        {
         "name": "col_16",
         "rawType": "float64",
         "type": "float"
        },
        {
         "name": "col_17",
         "rawType": "float64",
         "type": "float"
        },
        {
         "name": "col_18",
         "rawType": "float64",
         "type": "float"
        },
        {
         "name": "col_19",
         "rawType": "float64",
         "type": "float"
        },
        {
         "name": "col_20",
         "rawType": "float64",
         "type": "float"
        },
        {
         "name": "col_21",
         "rawType": "float64",
         "type": "float"
        },
        {
         "name": "col_22",
         "rawType": "float64",
         "type": "float"
        },
        {
         "name": "col_23",
         "rawType": "float64",
         "type": "float"
        },
        {
         "name": "col_24",
         "rawType": "float64",
         "type": "float"
        },
        {
         "name": "col_25",
         "rawType": "float64",
         "type": "float"
        },
        {
         "name": "col_26",
         "rawType": "float64",
         "type": "float"
        },
        {
         "name": "col_27",
         "rawType": "float64",
         "type": "float"
        },
        {
         "name": "col_28",
         "rawType": "float64",
         "type": "float"
        },
        {
         "name": "col_29",
         "rawType": "float64",
         "type": "float"
        },
        {
         "name": "col_30",
         "rawType": "float64",
         "type": "float"
        },
        {
         "name": "col_31",
         "rawType": "float64",
         "type": "float"
        },
        {
         "name": "exchange_rate",
         "rawType": "float64",
         "type": "float"
        },
        {
         "name": "year",
         "rawType": "float64",
         "type": "float"
        },
        {
         "name": "month",
         "rawType": "float64",
         "type": "float"
        },
        {
         "name": "day",
         "rawType": "float64",
         "type": "float"
        },
        {
         "name": "quarter",
         "rawType": "float64",
         "type": "float"
        },
        {
         "name": "day_of_week",
         "rawType": "float64",
         "type": "float"
        },
        {
         "name": "is_weekend",
         "rawType": "float64",
         "type": "float"
        }
       ],
       "conversionMethod": "pd.DataFrame",
       "ref": "05b088ca-00f7-4538-ac04-31f824464f2c",
       "rows": [
        [
         "0",
         "0.0",
         "0.0",
         "0.0",
         "0.0",
         "0.0",
         "0.0",
         "0.0",
         "0.0",
         "0.0",
         "0.0",
         "0.0",
         "0.0",
         "0.0",
         "0.0",
         "0.0",
         "0.0",
         "0.0",
         "0.0",
         "0.0",
         "0.0",
         "0.0",
         "0.0",
         "0.0",
         "0.0",
         "0.0",
         "0.0",
         "0.0",
         "0.0",
         "0.0",
         "1.0",
         "0.0",
         "0.0",
         "0.8824887307766592",
         "1.0",
         "0.09090909090909091",
         "0.4",
         "0.0",
         "0.5",
         "0.0"
        ],
        [
         "1",
         "0.0",
         "0.0",
         "0.0",
         "0.0",
         "0.0",
         "0.0",
         "0.0",
         "0.0",
         "0.0",
         "0.0",
         "0.0",
         "0.0",
         "0.0",
         "0.0",
         "0.0",
         "0.0",
         "0.0",
         "0.0",
         "0.0",
         "0.0",
         "0.0",
         "0.0",
         "0.0",
         "0.0",
         "0.0",
         "0.0",
         "0.0",
         "0.0",
         "0.0",
         "1.0",
         "0.0",
         "0.0",
         "0.0422673598594957",
         "1.0",
         "0.09090909090909091",
         "0.4",
         "0.0",
         "0.5",
         "0.0"
        ],
        [
         "2",
         "0.0",
         "1.0",
         "0.0",
         "0.0",
         "0.0",
         "0.0",
         "0.0",
         "0.0",
         "0.0",
         "0.0",
         "0.0",
         "0.0",
         "0.0",
         "0.0",
         "0.0",
         "0.0",
         "0.0",
         "0.0",
         "0.0",
         "0.0",
         "0.0",
         "0.0",
         "0.0",
         "0.0",
         "0.0",
         "0.0",
         "0.0",
         "0.0",
         "0.0",
         "0.0",
         "0.0",
         "0.0",
         "0.019812244072821058",
         "1.0",
         "0.09090909090909091",
         "0.4",
         "0.0",
         "0.5",
         "0.0"
        ],
        [
         "3",
         "0.0",
         "0.0",
         "0.0",
         "0.0",
         "0.0",
         "0.0",
         "0.0",
         "0.0",
         "0.0",
         "0.0",
         "0.0",
         "0.0",
         "0.0",
         "0.0",
         "0.0",
         "0.0",
         "1.0",
         "0.0",
         "0.0",
         "0.0",
         "0.0",
         "0.0",
         "0.0",
         "0.0",
         "0.0",
         "0.0",
         "0.0",
         "0.0",
         "0.0",
         "0.0",
         "0.0",
         "0.0",
         "0.07004593228037882",
         "1.0",
         "0.09090909090909091",
         "0.4",
         "0.0",
         "0.5",
         "0.0"
        ],
        [
         "4",
         "0.0",
         "0.0",
         "0.0",
         "0.0",
         "0.0",
         "0.0",
         "0.0",
         "0.0",
         "1.0",
         "0.0",
         "0.0",
         "0.0",
         "0.0",
         "0.0",
         "0.0",
         "0.0",
         "0.0",
         "0.0",
         "0.0",
         "0.0",
         "0.0",
         "0.0",
         "0.0",
         "0.0",
         "0.0",
         "0.0",
         "0.0",
         "0.0",
         "0.0",
         "0.0",
         "0.0",
         "0.0",
         "0.021348061770535956",
         "1.0",
         "0.09090909090909091",
         "0.4",
         "0.0",
         "0.5",
         "0.0"
        ]
       ],
       "shape": {
        "columns": 39,
        "rows": 5
       }
      },
      "text/html": [
       "<div>\n",
       "<style scoped>\n",
       "    .dataframe tbody tr th:only-of-type {\n",
       "        vertical-align: middle;\n",
       "    }\n",
       "\n",
       "    .dataframe tbody tr th {\n",
       "        vertical-align: top;\n",
       "    }\n",
       "\n",
       "    .dataframe thead th {\n",
       "        text-align: right;\n",
       "    }\n",
       "</style>\n",
       "<table border=\"1\" class=\"dataframe\">\n",
       "  <thead>\n",
       "    <tr style=\"text-align: right;\">\n",
       "      <th></th>\n",
       "      <th>col_0</th>\n",
       "      <th>col_1</th>\n",
       "      <th>col_2</th>\n",
       "      <th>col_3</th>\n",
       "      <th>col_4</th>\n",
       "      <th>col_5</th>\n",
       "      <th>col_6</th>\n",
       "      <th>col_7</th>\n",
       "      <th>col_8</th>\n",
       "      <th>col_9</th>\n",
       "      <th>...</th>\n",
       "      <th>col_29</th>\n",
       "      <th>col_30</th>\n",
       "      <th>col_31</th>\n",
       "      <th>exchange_rate</th>\n",
       "      <th>year</th>\n",
       "      <th>month</th>\n",
       "      <th>day</th>\n",
       "      <th>quarter</th>\n",
       "      <th>day_of_week</th>\n",
       "      <th>is_weekend</th>\n",
       "    </tr>\n",
       "  </thead>\n",
       "  <tbody>\n",
       "    <tr>\n",
       "      <th>0</th>\n",
       "      <td>0.00</td>\n",
       "      <td>0.00</td>\n",
       "      <td>0.00</td>\n",
       "      <td>0.00</td>\n",
       "      <td>0.00</td>\n",
       "      <td>0.00</td>\n",
       "      <td>0.00</td>\n",
       "      <td>0.00</td>\n",
       "      <td>0.00</td>\n",
       "      <td>0.00</td>\n",
       "      <td>...</td>\n",
       "      <td>1.00</td>\n",
       "      <td>0.00</td>\n",
       "      <td>0.00</td>\n",
       "      <td>0.88</td>\n",
       "      <td>1.00</td>\n",
       "      <td>0.09</td>\n",
       "      <td>0.40</td>\n",
       "      <td>0.00</td>\n",
       "      <td>0.50</td>\n",
       "      <td>0.00</td>\n",
       "    </tr>\n",
       "    <tr>\n",
       "      <th>1</th>\n",
       "      <td>0.00</td>\n",
       "      <td>0.00</td>\n",
       "      <td>0.00</td>\n",
       "      <td>0.00</td>\n",
       "      <td>0.00</td>\n",
       "      <td>0.00</td>\n",
       "      <td>0.00</td>\n",
       "      <td>0.00</td>\n",
       "      <td>0.00</td>\n",
       "      <td>0.00</td>\n",
       "      <td>...</td>\n",
       "      <td>1.00</td>\n",
       "      <td>0.00</td>\n",
       "      <td>0.00</td>\n",
       "      <td>0.04</td>\n",
       "      <td>1.00</td>\n",
       "      <td>0.09</td>\n",
       "      <td>0.40</td>\n",
       "      <td>0.00</td>\n",
       "      <td>0.50</td>\n",
       "      <td>0.00</td>\n",
       "    </tr>\n",
       "    <tr>\n",
       "      <th>2</th>\n",
       "      <td>0.00</td>\n",
       "      <td>1.00</td>\n",
       "      <td>0.00</td>\n",
       "      <td>0.00</td>\n",
       "      <td>0.00</td>\n",
       "      <td>0.00</td>\n",
       "      <td>0.00</td>\n",
       "      <td>0.00</td>\n",
       "      <td>0.00</td>\n",
       "      <td>0.00</td>\n",
       "      <td>...</td>\n",
       "      <td>0.00</td>\n",
       "      <td>0.00</td>\n",
       "      <td>0.00</td>\n",
       "      <td>0.02</td>\n",
       "      <td>1.00</td>\n",
       "      <td>0.09</td>\n",
       "      <td>0.40</td>\n",
       "      <td>0.00</td>\n",
       "      <td>0.50</td>\n",
       "      <td>0.00</td>\n",
       "    </tr>\n",
       "    <tr>\n",
       "      <th>3</th>\n",
       "      <td>0.00</td>\n",
       "      <td>0.00</td>\n",
       "      <td>0.00</td>\n",
       "      <td>0.00</td>\n",
       "      <td>0.00</td>\n",
       "      <td>0.00</td>\n",
       "      <td>0.00</td>\n",
       "      <td>0.00</td>\n",
       "      <td>0.00</td>\n",
       "      <td>0.00</td>\n",
       "      <td>...</td>\n",
       "      <td>0.00</td>\n",
       "      <td>0.00</td>\n",
       "      <td>0.00</td>\n",
       "      <td>0.07</td>\n",
       "      <td>1.00</td>\n",
       "      <td>0.09</td>\n",
       "      <td>0.40</td>\n",
       "      <td>0.00</td>\n",
       "      <td>0.50</td>\n",
       "      <td>0.00</td>\n",
       "    </tr>\n",
       "    <tr>\n",
       "      <th>4</th>\n",
       "      <td>0.00</td>\n",
       "      <td>0.00</td>\n",
       "      <td>0.00</td>\n",
       "      <td>0.00</td>\n",
       "      <td>0.00</td>\n",
       "      <td>0.00</td>\n",
       "      <td>0.00</td>\n",
       "      <td>0.00</td>\n",
       "      <td>1.00</td>\n",
       "      <td>0.00</td>\n",
       "      <td>...</td>\n",
       "      <td>0.00</td>\n",
       "      <td>0.00</td>\n",
       "      <td>0.00</td>\n",
       "      <td>0.02</td>\n",
       "      <td>1.00</td>\n",
       "      <td>0.09</td>\n",
       "      <td>0.40</td>\n",
       "      <td>0.00</td>\n",
       "      <td>0.50</td>\n",
       "      <td>0.00</td>\n",
       "    </tr>\n",
       "  </tbody>\n",
       "</table>\n",
       "<p>5 rows × 39 columns</p>\n",
       "</div>"
      ],
      "text/plain": [
       "   col_0  col_1  col_2  col_3  col_4  col_5  col_6  col_7  col_8  col_9  ...  \\\n",
       "0   0.00   0.00   0.00   0.00   0.00   0.00   0.00   0.00   0.00   0.00  ...   \n",
       "1   0.00   0.00   0.00   0.00   0.00   0.00   0.00   0.00   0.00   0.00  ...   \n",
       "2   0.00   1.00   0.00   0.00   0.00   0.00   0.00   0.00   0.00   0.00  ...   \n",
       "3   0.00   0.00   0.00   0.00   0.00   0.00   0.00   0.00   0.00   0.00  ...   \n",
       "4   0.00   0.00   0.00   0.00   0.00   0.00   0.00   0.00   1.00   0.00  ...   \n",
       "\n",
       "   col_29  col_30  col_31  exchange_rate  year  month  day  quarter  \\\n",
       "0    1.00    0.00    0.00           0.88  1.00   0.09 0.40     0.00   \n",
       "1    1.00    0.00    0.00           0.04  1.00   0.09 0.40     0.00   \n",
       "2    0.00    0.00    0.00           0.02  1.00   0.09 0.40     0.00   \n",
       "3    0.00    0.00    0.00           0.07  1.00   0.09 0.40     0.00   \n",
       "4    0.00    0.00    0.00           0.02  1.00   0.09 0.40     0.00   \n",
       "\n",
       "   day_of_week  is_weekend  \n",
       "0         0.50        0.00  \n",
       "1         0.50        0.00  \n",
       "2         0.50        0.00  \n",
       "3         0.50        0.00  \n",
       "4         0.50        0.00  \n",
       "\n",
       "[5 rows x 39 columns]"
      ]
     },
     "execution_count": 66,
     "metadata": {},
     "output_type": "execute_result"
    }
   ],
   "source": [
    "df_filtered.head()"
   ]
  },
  {
   "cell_type": "code",
   "execution_count": null,
   "metadata": {},
   "outputs": [],
   "source": []
  }
 ],
 "metadata": {
  "kernelspec": {
   "display_name": ".venv",
   "language": "python",
   "name": "python3"
  },
  "language_info": {
   "codemirror_mode": {
    "name": "ipython",
    "version": 3
   },
   "file_extension": ".py",
   "mimetype": "text/x-python",
   "name": "python",
   "nbconvert_exporter": "python",
   "pygments_lexer": "ipython3",
   "version": "3.13.2"
  }
 },
 "nbformat": 4,
 "nbformat_minor": 2
}
